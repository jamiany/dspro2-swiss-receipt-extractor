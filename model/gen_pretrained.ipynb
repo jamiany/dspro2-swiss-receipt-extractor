{
 "cells": [
  {
   "cell_type": "code",
   "id": "initial_id",
   "metadata": {
    "collapsed": true,
    "ExecuteTime": {
     "end_time": "2025-06-18T08:20:47.466489Z",
     "start_time": "2025-06-18T08:20:47.463076Z"
    }
   },
   "source": [
    "import random\n",
    "import string\n",
    "import math"
   ],
   "outputs": [],
   "execution_count": 16
  },
  {
   "metadata": {
    "ExecuteTime": {
     "end_time": "2025-06-18T08:20:47.486739Z",
     "start_time": "2025-06-18T08:20:47.482039Z"
    }
   },
   "cell_type": "code",
   "source": [
    "def skewed_int(min_val, max_val, median):\n",
    "    if not (min_val < median < max_val):\n",
    "        raise ValueError(\"invalid input\")\n",
    "\n",
    "    R = max_val - min_val\n",
    "    frac = (median - min_val) / R\n",
    "    k = math.log(frac) / math.log(0.5)\n",
    "\n",
    "    u = random.random()\n",
    "    raw = (u ** k) * R\n",
    "    x = min_val + int(raw)\n",
    "\n",
    "    return min(x, max_val)"
   ],
   "id": "b53ac729102c5cff",
   "outputs": [],
   "execution_count": 17
  },
  {
   "metadata": {
    "ExecuteTime": {
     "end_time": "2025-06-18T08:20:47.505834Z",
     "start_time": "2025-06-18T08:20:47.502126Z"
    }
   },
   "cell_type": "code",
   "source": [
    "def generate_word():\n",
    "    return ''.join(random.choices(string.ascii_letters + 'äöüÄÖÜ', k=skewed_int(3, 22, 6)))"
   ],
   "id": "215770118a130ac8",
   "outputs": [],
   "execution_count": 18
  },
  {
   "metadata": {
    "ExecuteTime": {
     "end_time": "2025-06-18T08:20:47.522786Z",
     "start_time": "2025-06-18T08:20:47.520443Z"
    }
   },
   "cell_type": "code",
   "source": [
    "def generate_number():\n",
    "    return str(int(''.join(random.choices(string.digits, k=skewed_int(1, 10, 4)))))"
   ],
   "id": "26bcf5513cb14ced",
   "outputs": [],
   "execution_count": 19
  },
  {
   "metadata": {
    "ExecuteTime": {
     "end_time": "2025-06-18T08:20:47.541674Z",
     "start_time": "2025-06-18T08:20:47.539059Z"
    }
   },
   "cell_type": "code",
   "source": [
    "def generate_punctuation():\n",
    "    return random.choice(r\"\"\"!,.:;?\"\"\")\n",
    "\n",
    "def generate_special():\n",
    "    return random.choice(r\"\"\"#&%/^$\"\"\")"
   ],
   "id": "6b46e2b5c0964015",
   "outputs": [],
   "execution_count": 20
  },
  {
   "metadata": {
    "ExecuteTime": {
     "end_time": "2025-06-18T08:20:47.556413Z",
     "start_time": "2025-06-18T08:20:47.553024Z"
    }
   },
   "cell_type": "code",
   "source": [
    "def replace_class(c):\n",
    "    if c == 'word':\n",
    "        return generate_word()\n",
    "    elif c == 'number':\n",
    "        return generate_number()\n",
    "    elif c == 'punctuation':\n",
    "        return generate_punctuation()\n",
    "    elif c == 'special':\n",
    "        return generate_special()\n",
    "    return ''"
   ],
   "id": "4a927aa0c35e284f",
   "outputs": [],
   "execution_count": 21
  },
  {
   "metadata": {
    "ExecuteTime": {
     "end_time": "2025-06-18T08:20:47.611216Z",
     "start_time": "2025-06-18T08:20:47.602760Z"
    }
   },
   "cell_type": "code",
   "source": [
    "def generate_sequence():\n",
    "    sequence_length = skewed_int(15, 60, 30)\n",
    "    sequence_length = 60\n",
    "\n",
    "    structure = []\n",
    "\n",
    "    classes = ['word', 'number']\n",
    "    weights = [0.8, 0.2]\n",
    "\n",
    "    structure.append(random.choices(classes, weights=weights, k=1)[0])\n",
    "\n",
    "    classes = ['word', 'number', 'punctuation', 'special']\n",
    "    weights = [0.7, 0.19, 0.1, 0.01]\n",
    "\n",
    "    structure.extend(random.choices(classes, weights=weights, k=sequence_length))\n",
    "    if not structure[-1] == 'punctuation':\n",
    "        structure.append('punctuation')\n",
    "\n",
    "    res = ''\n",
    "    for i, val in enumerate(structure):\n",
    "        res += replace_class(val)\n",
    "\n",
    "        if len(structure) > i+1 and not structure[i + 1] == 'punctuation':\n",
    "            res += ' '\n",
    "\n",
    "    return res"
   ],
   "id": "94d6c7d4f546eb5b",
   "outputs": [],
   "execution_count": 22
  },
  {
   "metadata": {
    "ExecuteTime": {
     "end_time": "2025-06-18T08:20:47.636751Z",
     "start_time": "2025-06-18T08:20:47.630653Z"
    }
   },
   "cell_type": "code",
   "source": [
    "from PIL import Image, ImageDraw, ImageFont\n",
    "\n",
    "\n",
    "def wrap_text(text, font, max_width, draw):\n",
    "    words = text.split()\n",
    "    if not words:\n",
    "        return []\n",
    "\n",
    "    lines = []\n",
    "    current_line = words[0]\n",
    "\n",
    "    for word in words[1:]:\n",
    "        # measure width of candidate line\n",
    "        candidate = f\"{current_line} {word}\"\n",
    "        bbox = draw.textbbox((0, 0), candidate, font=font)\n",
    "        line_width = bbox[2] - bbox[0]\n",
    "        if line_width <= max_width:\n",
    "            current_line = candidate\n",
    "        else:\n",
    "            lines.append(current_line)\n",
    "            current_line = word\n",
    "\n",
    "    lines.append(current_line)\n",
    "    return lines\n",
    "\n",
    "\n",
    "def draw_text_with_wrap(image, position, text, font, fill, max_width, line_spacing=4):\n",
    "    draw = ImageDraw.Draw(image)\n",
    "    x, y = position\n",
    "\n",
    "    # wrap text into lines fitting within inner_width\n",
    "    lines = wrap_text(text, font, max_width, draw)\n",
    "\n",
    "    # draw each line at offset x\n",
    "    for line in lines:\n",
    "        draw.text((x, y), line, font=font, fill=fill)\n",
    "        bbox = draw.textbbox((0, 0), line, font=font)\n",
    "        line_height = bbox[3] - bbox[1]\n",
    "        y += line_height + line_spacing\n",
    "\n",
    "    return image, lines"
   ],
   "id": "effd6f8aa4fdabbb",
   "outputs": [],
   "execution_count": 23
  },
  {
   "metadata": {
    "ExecuteTime": {
     "end_time": "2025-06-18T08:30:33.330312Z",
     "start_time": "2025-06-18T08:30:27.072267Z"
    }
   },
   "cell_type": "code",
   "source": [
    "fonts = [\n",
    "    ImageFont.truetype(\"arial.ttf\", 14),\n",
    "    ImageFont.truetype(\"arial.ttf\", 16),\n",
    "    ImageFont.truetype(\"arial.ttf\", 18),\n",
    "    ImageFont.truetype(\"cour.ttf\", 14),\n",
    "    ImageFont.truetype(\"cour.ttf\", 16),\n",
    "    ImageFont.truetype(\"cour.ttf\", 18),\n",
    "    ImageFont.truetype(\"times.ttf\", 14),\n",
    "    ImageFont.truetype(\"times.ttf\", 16),\n",
    "    ImageFont.truetype(\"times.ttf\", 18),\n",
    "    ImageFont.truetype(\"consola.ttf\", 14),\n",
    "    ImageFont.truetype(\"consola.ttf\", 16),\n",
    "    ImageFont.truetype(\"consola.ttf\", 18),\n",
    "]\n",
    "\n",
    "for i in range(100):\n",
    "    img = Image.new(\"RGB\", (400, 400), color=\"white\")\n",
    "\n",
    "    text = generate_sequence()\n",
    "    font = random.choice(fonts)\n",
    "    offset = random.randint(0, 40)\n",
    "    padding = random.randint(0, 40)\n",
    "    line_spacing = random.randint(4, 10)\n",
    "\n",
    "    wrapped_img, lines = draw_text_with_wrap(\n",
    "        img,\n",
    "        position=(padding, offset),\n",
    "        text=text,\n",
    "        font=font,\n",
    "        fill=\"black\",\n",
    "        max_width=400 - padding * 2,\n",
    "        line_spacing=line_spacing\n",
    "    )\n",
    "\n",
    "    name = str(i).zfill(2)\n",
    "    wrapped_img.save(f'valid/{name}.png')\n",
    "\n",
    "    with open(f'valid/{name}.txt', 'w', encoding='utf-8') as f:\n",
    "        f.write('\\n'.join(lines))"
   ],
   "id": "b137a367233b11ba",
   "outputs": [],
   "execution_count": 25
  },
  {
   "metadata": {
    "ExecuteTime": {
     "end_time": "2025-06-18T08:29:41.224708Z",
     "start_time": "2025-06-18T08:29:41.222426Z"
    }
   },
   "cell_type": "code",
   "source": "",
   "id": "1ae0a1ea0e5f79a",
   "outputs": [],
   "execution_count": null
  }
 ],
 "metadata": {
  "kernelspec": {
   "display_name": "Python 3",
   "language": "python",
   "name": "python3"
  },
  "language_info": {
   "codemirror_mode": {
    "name": "ipython",
    "version": 2
   },
   "file_extension": ".py",
   "mimetype": "text/x-python",
   "name": "python",
   "nbconvert_exporter": "python",
   "pygments_lexer": "ipython2",
   "version": "2.7.6"
  }
 },
 "nbformat": 4,
 "nbformat_minor": 5
}
