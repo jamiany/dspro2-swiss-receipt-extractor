{
 "cells": [
  {
   "metadata": {
    "ExecuteTime": {
     "end_time": "2025-06-10T13:09:02.228978Z",
     "start_time": "2025-06-10T13:09:02.225457Z"
    }
   },
   "cell_type": "code",
   "source": [
    "import cv2\n",
    "import numpy as np"
   ],
   "id": "254c76e0fb6c6d19",
   "outputs": [],
   "execution_count": 131
  },
  {
   "metadata": {
    "ExecuteTime": {
     "end_time": "2025-06-10T13:09:02.267502Z",
     "start_time": "2025-06-10T13:09:02.252706Z"
    }
   },
   "cell_type": "code",
   "source": [
    "# Load image\n",
    "image_name = \"input.jpg\" # available images 1-4\n",
    "log_steps = True        # if the different steps across the progress should be saved as image\n",
    "\n",
    "image = cv2.imread(image_name)"
   ],
   "id": "9925bdbdf5c850b8",
   "outputs": [],
   "execution_count": 132
  },
  {
   "metadata": {
    "ExecuteTime": {
     "end_time": "2025-06-10T13:09:02.300004Z",
     "start_time": "2025-06-10T13:09:02.282366Z"
    }
   },
   "cell_type": "code",
   "source": [
    "# Find edges\n",
    "gray = cv2.cvtColor(image, cv2.COLOR_BGR2GRAY)\n",
    "\n",
    "blurred = cv2.GaussianBlur(gray, (5, 5), 0)\n",
    "\n",
    "if log_steps:\n",
    "    cv2.imwrite('0_blurred.jpg', blurred)\n",
    "\n",
    "edged = cv2.Canny(blurred, 75, 200)\n",
    "\n",
    "if log_steps:\n",
    "    cv2.imwrite('1_edged.jpg', edged)"
   ],
   "id": "initial_id",
   "outputs": [],
   "execution_count": 133
  },
  {
   "metadata": {
    "ExecuteTime": {
     "end_time": "2025-06-10T13:09:02.324345Z",
     "start_time": "2025-06-10T13:09:02.313419Z"
    }
   },
   "cell_type": "code",
   "source": [
    "# Close edges\n",
    "kernel = cv2.getStructuringElement(cv2.MORPH_RECT, (15, 15))\n",
    "closed = cv2.morphologyEx(edged, cv2.MORPH_CLOSE, kernel)\n",
    "\n",
    "closed = cv2.dilate(closed, None, iterations=2)\n",
    "closed = cv2.erode(closed, None, iterations=2)\n",
    "\n",
    "if log_steps:\n",
    "    cv2.imwrite('2_closed.jpg', closed)"
   ],
   "id": "43055634821ff30c",
   "outputs": [],
   "execution_count": 134
  },
  {
   "metadata": {
    "ExecuteTime": {
     "end_time": "2025-06-10T13:09:25.979145Z",
     "start_time": "2025-06-10T13:09:25.964210Z"
    }
   },
   "cell_type": "code",
   "source": [
    "# Find contours\n",
    "contours, _ = cv2.findContours(closed.copy(), cv2.RETR_LIST, cv2.CHAIN_APPROX_SIMPLE)\n",
    "contours = sorted(contours, key=cv2.contourArea, reverse=True)\n",
    "\n",
    "if log_steps:\n",
    "    contoured_image = image.copy()\n",
    "    cv2.drawContours(contoured_image, contours[:100], -1, (0, 255, 0), 2)\n",
    "\n",
    "    cv2.imwrite('3_contours.jpg', contoured_image)"
   ],
   "id": "26cece2f80f6c32c",
   "outputs": [],
   "execution_count": 156
  },
  {
   "metadata": {
    "ExecuteTime": {
     "end_time": "2025-06-10T13:09:02.367122Z",
     "start_time": "2025-06-10T13:09:02.364235Z"
    }
   },
   "cell_type": "code",
   "source": [
    "def max_pairwise_distance(contour):\n",
    "    hull = cv2.convexHull(contour, returnPoints=True)\n",
    "    n = len(hull)\n",
    "    if n < 2:\n",
    "        return 0.0\n",
    "\n",
    "    max_dist = 0\n",
    "    j = 1\n",
    "    for i in range(n):\n",
    "        while True:\n",
    "            d1 = np.linalg.norm(hull[i][0] - hull[j % n][0])\n",
    "            d2 = np.linalg.norm(hull[i][0] - hull[(j + 1) % n][0])\n",
    "            if d2 > d1:\n",
    "                j += 1\n",
    "            else:\n",
    "                break\n",
    "        max_dist = max(max_dist, np.linalg.norm(hull[i][0] - hull[j % n][0]))\n",
    "    return max_dist"
   ],
   "id": "62916f9a91d7b939",
   "outputs": [],
   "execution_count": 136
  },
  {
   "metadata": {
    "ExecuteTime": {
     "end_time": "2025-06-10T13:09:02.394348Z",
     "start_time": "2025-06-10T13:09:02.381291Z"
    }
   },
   "cell_type": "code",
   "source": [
    "# Filter the contours\n",
    "\n",
    "# Thresholds\n",
    "min_contour_length = 600\n",
    "# areas are not reliable -> disabled\n",
    "min_area_size = 0\n",
    "min_diameter = 400\n",
    "\n",
    "filtered_contours = []\n",
    "\n",
    "for cnt in contours:\n",
    "\n",
    "    length = cv2.arcLength(cnt, True)\n",
    "    area = cv2.contourArea(cnt)\n",
    "\n",
    "    # Verify arclength of contour\n",
    "    if length < min_contour_length or area <= min_area_size:\n",
    "        continue\n",
    "\n",
    "    # Verify diameter of contour\n",
    "    diameter = max_pairwise_distance(cnt)\n",
    "    if diameter <= min_diameter:\n",
    "            continue\n",
    "\n",
    "    # Passed all filters, keep it\n",
    "    filtered_contours.append(cnt)\n",
    "\n",
    "# Only keep the 25 most promising contours\n",
    "# filtered_contours = filtered_contours[:25]\n",
    "\n",
    "if log_steps:\n",
    "    filtered_edges = np.ones_like(image) * 255\n",
    "    cv2.drawContours(filtered_edges, filtered_contours, -1, 255, thickness=cv2.FILLED)\n",
    "\n",
    "    cv2.imwrite(\"4_filtered_edges.jpg\", filtered_edges)"
   ],
   "id": "29625c3e6aad144f",
   "outputs": [],
   "execution_count": 137
  },
  {
   "metadata": {
    "ExecuteTime": {
     "end_time": "2025-06-10T13:09:02.415985Z",
     "start_time": "2025-06-10T13:09:02.407438Z"
    }
   },
   "cell_type": "code",
   "source": [
    "single_edge = np.ones_like(image) * 255\n",
    "offset = 0\n",
    "for c in contours[80:]:\n",
    "    cv2.drawContours(single_edge, [c], -1, (255 - offset, 0, offset), thickness=cv2.FILLED)\n",
    "\n",
    "    offset += 10\n",
    "\n",
    "cv2.imwrite(\"4_filtered_edges.jpg\", single_edge)"
   ],
   "id": "93712d89feb7da66",
   "outputs": [
    {
     "data": {
      "text/plain": [
       "True"
      ]
     },
     "execution_count": 138,
     "metadata": {},
     "output_type": "execute_result"
    }
   ],
   "execution_count": 138
  },
  {
   "metadata": {
    "ExecuteTime": {
     "end_time": "2025-06-10T13:09:02.440929Z",
     "start_time": "2025-06-10T13:09:02.432903Z"
    }
   },
   "cell_type": "code",
   "source": [
    "single_edge = np.ones_like(image) * 255\n",
    "\n",
    "cv2.drawContours(single_edge, [contours[-2]], -1, 255, thickness=cv2.FILLED)\n",
    "\n",
    "cv2.imwrite(\"4_filtered_edges.jpg\", single_edge)"
   ],
   "id": "ba98db7996830459",
   "outputs": [
    {
     "data": {
      "text/plain": [
       "True"
      ]
     },
     "execution_count": 139,
     "metadata": {},
     "output_type": "execute_result"
    }
   ],
   "execution_count": 139
  },
  {
   "metadata": {
    "ExecuteTime": {
     "end_time": "2025-06-10T13:09:02.460344Z",
     "start_time": "2025-06-10T13:09:02.457276Z"
    }
   },
   "cell_type": "code",
   "source": [
    "check = contours[-2]\n",
    "\n",
    "length = cv2.arcLength(check, True)\n",
    "print(length)\n",
    "area = cv2.contourArea(check)\n",
    "print(area)\n",
    "\n",
    "# Verify arclength of contour\n",
    "if length < min_contour_length or area <= min_area_size:\n",
    "    print(\"gone 1\")\n",
    "\n",
    "# Verify diameter of contour\n",
    "diameter = max_pairwise_distance(check)\n",
    "print(diameter)\n",
    "if diameter <= min_diameter:\n",
    "        print(\"gone 2\")"
   ],
   "id": "3cae950ba2d23596",
   "outputs": [
    {
     "name": "stdout",
     "output_type": "stream",
     "text": [
      "9662.219466924667\n",
      "20.0\n",
      "2212.2036524696364\n"
     ]
    }
   ],
   "execution_count": 140
  },
  {
   "metadata": {
    "ExecuteTime": {
     "end_time": "2025-06-10T13:09:02.477120Z",
     "start_time": "2025-06-10T13:09:02.474741Z"
    }
   },
   "cell_type": "code",
   "source": "len(contours)",
   "id": "1f41b07b53d42c1b",
   "outputs": [
    {
     "data": {
      "text/plain": [
       "87"
      ]
     },
     "execution_count": 141,
     "metadata": {},
     "output_type": "execute_result"
    }
   ],
   "execution_count": 141
  },
  {
   "metadata": {
    "ExecuteTime": {
     "end_time": "2025-06-10T13:09:02.500346Z",
     "start_time": "2025-06-10T13:09:02.491988Z"
    }
   },
   "cell_type": "code",
   "source": [
    "# Create an outer hull of the contours\n",
    "concatenated_contour = np.vstack(filtered_contours)\n",
    "hull = cv2.convexHull(concatenated_contour)\n",
    "\n",
    "if log_steps:\n",
    "    mask = np.zeros_like(image) + 150\n",
    "    cv2.drawContours(mask, [hull], -1, (255, 255, 255), thickness=cv2.FILLED)\n",
    "\n",
    "    cv2.imwrite(\"5_mask.jpg\", mask)"
   ],
   "id": "b5da36b9fd15feae",
   "outputs": [],
   "execution_count": 142
  },
  {
   "metadata": {
    "ExecuteTime": {
     "end_time": "2025-06-10T13:09:02.520062Z",
     "start_time": "2025-06-10T13:09:02.512625Z"
    }
   },
   "cell_type": "code",
   "source": [
    "# Simplify the hull shape\n",
    "peri = cv2.arcLength(hull, True)\n",
    "approx = cv2.approxPolyDP(hull, 0.015 * peri, True)\n",
    "\n",
    "if log_steps:\n",
    "    cornered = mask.copy()\n",
    "    for corner in approx:\n",
    "        cv2.circle(cornered, corner[0], 20, (0, 0, 255), 20)\n",
    "\n",
    "    cv2.imwrite(\"6_cornered.jpg\", cornered)"
   ],
   "id": "d14e88ea6213fa2",
   "outputs": [],
   "execution_count": 143
  },
  {
   "metadata": {
    "ExecuteTime": {
     "end_time": "2025-06-10T13:09:02.533804Z",
     "start_time": "2025-06-10T13:09:02.532315Z"
    }
   },
   "cell_type": "code",
   "source": "height, width, _ = image.shape",
   "id": "6e5b62109f102e11",
   "outputs": [],
   "execution_count": 144
  },
  {
   "metadata": {
    "ExecuteTime": {
     "end_time": "2025-06-10T13:09:02.550976Z",
     "start_time": "2025-06-10T13:09:02.548530Z"
    }
   },
   "cell_type": "code",
   "source": [
    "# Order points to allow perspective transform\n",
    "def order_points(pts):\n",
    "    rect = np.zeros((4, 2), dtype=np.float32)\n",
    "\n",
    "    s = pts.sum(axis=1)\n",
    "    rect[0] = pts[np.argmin(s)]  # top-left\n",
    "    rect[2] = pts[np.argmax(s)]  # bottom-right\n",
    "\n",
    "    diff = np.diff(pts, axis=1)\n",
    "    rect[1] = pts[np.argmin(diff)]  # top-right\n",
    "    rect[3] = pts[np.argmax(diff)]  # bottom-left\n",
    "\n",
    "    return rect"
   ],
   "id": "f24e49c96d857668",
   "outputs": [],
   "execution_count": 145
  },
  {
   "metadata": {
    "ExecuteTime": {
     "end_time": "2025-06-10T13:09:02.567852Z",
     "start_time": "2025-06-10T13:09:02.565428Z"
    }
   },
   "cell_type": "code",
   "source": "approx.reshape((4, 2))",
   "id": "cd75bbfc9bea2f8c",
   "outputs": [
    {
     "data": {
      "text/plain": [
       "array([[1424, 2311],\n",
       "       [ 558, 2311],\n",
       "       [ 610,  254],\n",
       "       [1262,  299]], dtype=int32)"
      ]
     },
     "execution_count": 146,
     "metadata": {},
     "output_type": "execute_result"
    }
   ],
   "execution_count": 146
  },
  {
   "metadata": {
    "ExecuteTime": {
     "end_time": "2025-06-10T13:09:02.624287Z",
     "start_time": "2025-06-10T13:09:02.622008Z"
    }
   },
   "cell_type": "code",
   "source": "corners = order_points(approx.reshape((4, 2)))",
   "id": "825cca168810aa0a",
   "outputs": [],
   "execution_count": 147
  },
  {
   "metadata": {
    "ExecuteTime": {
     "end_time": "2025-06-10T13:09:02.667696Z",
     "start_time": "2025-06-10T13:09:02.664972Z"
    }
   },
   "cell_type": "code",
   "source": [
    "sorted_points = order_points(np.array(corners))\n",
    "(tl, tr, br, bl) = sorted_points\n",
    "\n",
    "# Compute approximate width in pixels (horizontal sides)\n",
    "width_a = np.linalg.norm(br - bl)\n",
    "width_b = np.linalg.norm(tr - tl)\n",
    "max_width = max(int(width_a), int(width_b))\n",
    "\n",
    "# Compute approximate height in pixels (vertical sides)\n",
    "height_a = np.linalg.norm(tr - br)\n",
    "height_b = np.linalg.norm(tl - bl)\n",
    "max_height = max(int(height_a), int(height_b))"
   ],
   "id": "ad79333625088948",
   "outputs": [],
   "execution_count": 148
  },
  {
   "metadata": {
    "ExecuteTime": {
     "end_time": "2025-06-10T13:09:02.694564Z",
     "start_time": "2025-06-10T13:09:02.692658Z"
    }
   },
   "cell_type": "code",
   "source": "print(sorted_points)",
   "id": "b3c902df4c36a828",
   "outputs": [
    {
     "name": "stdout",
     "output_type": "stream",
     "text": [
      "[[ 610.  254.]\n",
      " [1262.  299.]\n",
      " [1424. 2311.]\n",
      " [ 558. 2311.]]\n"
     ]
    }
   ],
   "execution_count": 149
  },
  {
   "metadata": {
    "ExecuteTime": {
     "end_time": "2025-06-10T13:09:02.720445Z",
     "start_time": "2025-06-10T13:09:02.718523Z"
    }
   },
   "cell_type": "code",
   "source": [
    "output_width = 800\n",
    "\n",
    "ratio = max_width / float(output_width)\n",
    "output_height = int(max_height / ratio)"
   ],
   "id": "4dc5f060ab6af3f2",
   "outputs": [],
   "execution_count": 150
  },
  {
   "metadata": {
    "ExecuteTime": {
     "end_time": "2025-06-10T13:09:02.741498Z",
     "start_time": "2025-06-10T13:09:02.734130Z"
    }
   },
   "cell_type": "code",
   "source": [
    "# Warp the image to only keep the receipt\n",
    "\n",
    "src_pts = sorted_points\n",
    "dst_pts = np.array([\n",
    "    [0, 0],\n",
    "    [output_width, 0],\n",
    "    [output_width, output_height],\n",
    "    [0, output_height]\n",
    "], dtype=np.float32)\n",
    "\n",
    "matrix = cv2.getPerspectiveTransform(src_pts, dst_pts)\n",
    "result = cv2.warpPerspective(image.copy(), matrix, (output_width, output_height), borderMode=cv2.BORDER_CONSTANT, borderValue=(255, 255, 255))\n",
    "\n",
    "if log_steps:\n",
    "    cv2.imwrite(\"7_warped.jpg\", result)"
   ],
   "id": "694c5375f851466e",
   "outputs": [],
   "execution_count": 151
  },
  {
   "metadata": {
    "ExecuteTime": {
     "end_time": "2025-06-10T13:09:02.758794Z",
     "start_time": "2025-06-10T13:09:02.745613Z"
    }
   },
   "cell_type": "code",
   "source": [
    "# Remove background and boost contrast\n",
    "def local_contrast_filter(img):\n",
    "    img = img.astype(np.float32)\n",
    "\n",
    "    local_mean = cv2.blur(img, (15, 15))\n",
    "    diff = img - local_mean\n",
    "\n",
    "    adjusted = img + diff * 5\n",
    "\n",
    "    adjusted_clipped = np.clip(adjusted, 0, 255)\n",
    "\n",
    "    return adjusted_clipped.astype(np.uint8)\n",
    "\n",
    "original_image = result.copy()\n",
    "original_image_gray = cv2.cvtColor(original_image, cv2.COLOR_BGR2GRAY)\n",
    "\n",
    "filtered = local_contrast_filter(original_image_gray)\n",
    "\n",
    "if log_steps:\n",
    "    cv2.imwrite(\"8_enhanced.jpg\", filtered)\n",
    "\n",
    "filtered[filtered > 50] = 255\n",
    "res = filtered"
   ],
   "id": "1e354873296d8b48",
   "outputs": [],
   "execution_count": 152
  },
  {
   "metadata": {
    "ExecuteTime": {
     "end_time": "2025-06-10T13:09:02.783274Z",
     "start_time": "2025-06-10T13:09:02.781557Z"
    }
   },
   "cell_type": "code",
   "source": [
    "# res = cv2.erode(res, None, iterations=1)\n",
    "# res = cv2.dilate(res, None, iterations=1)"
   ],
   "id": "96a508330c6a05a3",
   "outputs": [],
   "execution_count": 153
  },
  {
   "metadata": {
    "ExecuteTime": {
     "end_time": "2025-06-10T13:09:02.803806Z",
     "start_time": "2025-06-10T13:09:02.799338Z"
    }
   },
   "cell_type": "code",
   "source": [
    "# Output final result\n",
    "cv2.imwrite(\"final_result.jpg\", res)"
   ],
   "id": "983efe1b1d3c8bc0",
   "outputs": [
    {
     "data": {
      "text/plain": [
       "True"
      ]
     },
     "execution_count": 154,
     "metadata": {},
     "output_type": "execute_result"
    }
   ],
   "execution_count": 154
  },
  {
   "metadata": {
    "ExecuteTime": {
     "end_time": "2025-06-10T13:09:02.818176Z",
     "start_time": "2025-06-10T13:09:02.816920Z"
    }
   },
   "cell_type": "code",
   "source": "",
   "id": "4b548acfab3e08ed",
   "outputs": [],
   "execution_count": null
  }
 ],
 "metadata": {
  "kernelspec": {
   "display_name": "Python 3",
   "language": "python",
   "name": "python3"
  },
  "language_info": {
   "codemirror_mode": {
    "name": "ipython",
    "version": 2
   },
   "file_extension": ".py",
   "mimetype": "text/x-python",
   "name": "python",
   "nbconvert_exporter": "python",
   "pygments_lexer": "ipython2",
   "version": "2.7.6"
  }
 },
 "nbformat": 4,
 "nbformat_minor": 5
}
