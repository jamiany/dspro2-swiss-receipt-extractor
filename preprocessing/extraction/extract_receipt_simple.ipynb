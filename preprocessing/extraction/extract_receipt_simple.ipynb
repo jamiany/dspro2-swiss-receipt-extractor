{
 "cells": [
  {
   "metadata": {
    "ExecuteTime": {
     "end_time": "2025-06-25T12:19:48.088587Z",
     "start_time": "2025-06-25T12:19:48.085792Z"
    }
   },
   "cell_type": "code",
   "source": [
    "import cv2\n",
    "import numpy as np"
   ],
   "id": "254c76e0fb6c6d19",
   "outputs": [],
   "execution_count": 49
  },
  {
   "metadata": {
    "ExecuteTime": {
     "end_time": "2025-06-25T12:19:48.124673Z",
     "start_time": "2025-06-25T12:19:48.108608Z"
    }
   },
   "cell_type": "code",
   "source": [
    "# Load image\n",
    "image_name = \"0.jpg\" # available images 1-4\n",
    "log_steps = True        # if the different steps across the progress should be saved as image\n",
    "\n",
    "image = cv2.imread(image_name)"
   ],
   "id": "9925bdbdf5c850b8",
   "outputs": [],
   "execution_count": 50
  },
  {
   "metadata": {
    "ExecuteTime": {
     "end_time": "2025-06-25T12:19:48.139598Z",
     "start_time": "2025-06-25T12:19:48.137975Z"
    }
   },
   "cell_type": "code",
   "source": "height, width, _ = image.shape",
   "id": "6e5b62109f102e11",
   "outputs": [],
   "execution_count": 51
  },
  {
   "metadata": {
    "ExecuteTime": {
     "end_time": "2025-06-25T12:19:48.198862Z",
     "start_time": "2025-06-25T12:19:48.156143Z"
    }
   },
   "cell_type": "code",
   "source": [
    "# Find edges\n",
    "gray = cv2.cvtColor(image, cv2.COLOR_BGR2GRAY)\n",
    "blurred = cv2.GaussianBlur(gray, (5, 5), 0)\n",
    "\n",
    "hsv = cv2.cvtColor(image, cv2.COLOR_BGR2RGB)\n",
    "H, S, V = cv2.split(hsv)\n",
    "\n",
    "# Apply Gaussian blur to each\n",
    "H_blur = cv2.GaussianBlur(H, (5, 5), 0)\n",
    "S_blur = cv2.GaussianBlur(S, (5, 5), 0)\n",
    "V_blur = cv2.GaussianBlur(V, (5, 5), 0)\n",
    "\n",
    "if log_steps:\n",
    "    cv2.imwrite('0_extracted_blurred.jpg', blurred)\n",
    "    cv2.imwrite('0_extracted_h.jpg', H_blur)\n",
    "    cv2.imwrite('0_extracted_s.jpg', S_blur)\n",
    "    cv2.imwrite('0_extracted_v.jpg', V_blur)\n",
    "\n",
    "edges_gray = cv2.Canny(blurred, 75, 200)\n",
    "edges_s = cv2.Canny(S_blur, 75, 200)\n",
    "edges_h = cv2.Canny(H_blur, 75, 200)\n",
    "edged = cv2.bitwise_or(edges_gray, edges_s)\n",
    "edged = cv2.bitwise_or(edged, edges_h)\n",
    "\n",
    "if log_steps:\n",
    "    cv2.imwrite('1_edged.jpg', edged)"
   ],
   "id": "initial_id",
   "outputs": [],
   "execution_count": 52
  },
  {
   "metadata": {
    "ExecuteTime": {
     "end_time": "2025-06-25T12:19:48.221904Z",
     "start_time": "2025-06-25T12:19:48.210442Z"
    }
   },
   "cell_type": "code",
   "source": [
    "# Close edges\n",
    "kernel = cv2.getStructuringElement(cv2.MORPH_RECT, (15, 15))\n",
    "closed = cv2.morphologyEx(edged, cv2.MORPH_CLOSE, kernel)\n",
    "\n",
    "closed = cv2.dilate(closed, None, iterations=2)\n",
    "closed = cv2.erode(closed, None, iterations=2)\n",
    "\n",
    "if log_steps:\n",
    "    cv2.imwrite('2_closed.jpg', closed)"
   ],
   "id": "43055634821ff30c",
   "outputs": [],
   "execution_count": 53
  },
  {
   "metadata": {
    "ExecuteTime": {
     "end_time": "2025-06-25T12:19:48.247386Z",
     "start_time": "2025-06-25T12:19:48.233282Z"
    }
   },
   "cell_type": "code",
   "source": [
    "# Find contours\n",
    "contours, _ = cv2.findContours(closed.copy(), cv2.RETR_LIST, cv2.CHAIN_APPROX_SIMPLE)\n",
    "contours = sorted(contours, key=cv2.contourArea, reverse=True)\n",
    "\n",
    "if log_steps:\n",
    "    contoured_image = image.copy()\n",
    "    cv2.drawContours(contoured_image, contours[:100], -1, (0, 255, 0), 2)\n",
    "\n",
    "    cv2.imwrite('3_contours.jpg', contoured_image)"
   ],
   "id": "26cece2f80f6c32c",
   "outputs": [],
   "execution_count": 54
  },
  {
   "metadata": {
    "ExecuteTime": {
     "end_time": "2025-06-25T12:19:48.261343Z",
     "start_time": "2025-06-25T12:19:48.258731Z"
    }
   },
   "cell_type": "code",
   "source": [
    "def max_pairwise_distance(contour):\n",
    "    hull = cv2.convexHull(contour, returnPoints=True)\n",
    "    n = len(hull)\n",
    "    if n < 2:\n",
    "        return 0.0\n",
    "\n",
    "    max_dist = 0\n",
    "    j = 1\n",
    "    for i in range(n):\n",
    "        while True:\n",
    "            d1 = np.linalg.norm(hull[i][0] - hull[j % n][0])\n",
    "            d2 = np.linalg.norm(hull[i][0] - hull[(j + 1) % n][0])\n",
    "            if d2 > d1:\n",
    "                j += 1\n",
    "            else:\n",
    "                break\n",
    "        max_dist = max(max_dist, np.linalg.norm(hull[i][0] - hull[j % n][0]))\n",
    "    return max_dist"
   ],
   "id": "62916f9a91d7b939",
   "outputs": [],
   "execution_count": 55
  },
  {
   "metadata": {
    "ExecuteTime": {
     "end_time": "2025-06-25T12:19:48.287637Z",
     "start_time": "2025-06-25T12:19:48.275866Z"
    }
   },
   "cell_type": "code",
   "source": [
    "# Filter the contours\n",
    "\n",
    "# Thresholds\n",
    "min_contour_length = height // 3\n",
    "print(height)\n",
    "# areas are not reliable -> disabled\n",
    "min_area_size = 0\n",
    "min_diameter = height // 4\n",
    "\n",
    "print(min_contour_length)\n",
    "print(min_diameter)\n",
    "\n",
    "filtered_contours = []\n",
    "\n",
    "for cnt in contours:\n",
    "\n",
    "    length = cv2.arcLength(cnt, True)\n",
    "    area = cv2.contourArea(cnt)\n",
    "\n",
    "    # Verify arclength of contour\n",
    "    if length < min_contour_length or area <= min_area_size:\n",
    "        continue\n",
    "\n",
    "    # Verify diameter of contour\n",
    "    diameter = max_pairwise_distance(cnt)\n",
    "    if diameter <= min_diameter:\n",
    "            continue\n",
    "\n",
    "    # Passed all filters, keep it\n",
    "    filtered_contours.append(cnt)\n",
    "\n",
    "# Only keep the 25 most promising contours\n",
    "# filtered_contours = filtered_contours[:25]\n",
    "\n",
    "if log_steps:\n",
    "    filtered_edges = np.ones_like(image) * 255\n",
    "    cv2.drawContours(filtered_edges, filtered_contours, -1, (0, 0, 0), thickness=cv2.FILLED)\n",
    "\n",
    "    cv2.imwrite(\"4_filtered_edges.jpg\", filtered_edges)"
   ],
   "id": "29625c3e6aad144f",
   "outputs": [
    {
     "name": "stdout",
     "output_type": "stream",
     "text": [
      "2312\n",
      "770\n",
      "578\n"
     ]
    }
   ],
   "execution_count": 56
  },
  {
   "metadata": {
    "ExecuteTime": {
     "end_time": "2025-06-25T12:19:48.311899Z",
     "start_time": "2025-06-25T12:19:48.304043Z"
    }
   },
   "cell_type": "code",
   "source": [
    "single_edge = np.ones_like(image) * 255\n",
    "offset = 0\n",
    "for c in contours[80:]:\n",
    "    cv2.drawContours(single_edge, [c], -1, (255 - offset, 0, offset), thickness=cv2.FILLED)\n",
    "\n",
    "    offset += 10\n",
    "\n",
    "cv2.imwrite(\"4_filtered_edges.jpg\", single_edge)"
   ],
   "id": "93712d89feb7da66",
   "outputs": [
    {
     "data": {
      "text/plain": [
       "True"
      ]
     },
     "execution_count": 57,
     "metadata": {},
     "output_type": "execute_result"
    }
   ],
   "execution_count": 57
  },
  {
   "metadata": {
    "ExecuteTime": {
     "end_time": "2025-06-25T12:19:48.332690Z",
     "start_time": "2025-06-25T12:19:48.324823Z"
    }
   },
   "cell_type": "code",
   "source": [
    "single_edge = np.ones_like(image) * 255\n",
    "\n",
    "cv2.drawContours(single_edge, [contours[-2]], -1, 255, thickness=cv2.FILLED)\n",
    "\n",
    "cv2.imwrite(\"4_filtered_edges.jpg\", single_edge)"
   ],
   "id": "ba98db7996830459",
   "outputs": [
    {
     "data": {
      "text/plain": [
       "True"
      ]
     },
     "execution_count": 58,
     "metadata": {},
     "output_type": "execute_result"
    }
   ],
   "execution_count": 58
  },
  {
   "metadata": {
    "ExecuteTime": {
     "end_time": "2025-06-25T12:19:48.349022Z",
     "start_time": "2025-06-25T12:19:48.346045Z"
    }
   },
   "cell_type": "code",
   "source": [
    "check = contours[-2]\n",
    "\n",
    "length = cv2.arcLength(check, True)\n",
    "print(length)\n",
    "area = cv2.contourArea(check)\n",
    "print(area)\n",
    "\n",
    "# Verify arclength of contour\n",
    "if length < min_contour_length or area <= min_area_size:\n",
    "    print(\"gone 1\")\n",
    "\n",
    "# Verify diameter of contour\n",
    "diameter = max_pairwise_distance(check)\n",
    "print(diameter)\n",
    "if diameter <= min_diameter:\n",
    "        print(\"gone 2\")"
   ],
   "id": "3cae950ba2d23596",
   "outputs": [
    {
     "name": "stdout",
     "output_type": "stream",
     "text": [
      "64.72792184352875\n",
      "19.5\n",
      "gone 1\n",
      "30.265491900843113\n",
      "gone 2\n"
     ]
    }
   ],
   "execution_count": 59
  },
  {
   "metadata": {
    "ExecuteTime": {
     "end_time": "2025-06-25T12:19:48.369220Z",
     "start_time": "2025-06-25T12:19:48.367003Z"
    }
   },
   "cell_type": "code",
   "source": "len(contours)",
   "id": "1f41b07b53d42c1b",
   "outputs": [
    {
     "data": {
      "text/plain": [
       "57"
      ]
     },
     "execution_count": 60,
     "metadata": {},
     "output_type": "execute_result"
    }
   ],
   "execution_count": 60
  },
  {
   "metadata": {
    "ExecuteTime": {
     "end_time": "2025-06-25T12:19:48.393936Z",
     "start_time": "2025-06-25T12:19:48.385523Z"
    }
   },
   "cell_type": "code",
   "source": [
    "# Create an outer hull of the contours\n",
    "concatenated_contour = np.vstack(filtered_contours)\n",
    "hull = cv2.convexHull(concatenated_contour)\n",
    "\n",
    "if log_steps:\n",
    "    mask = np.zeros_like(image) + 150\n",
    "    cv2.drawContours(mask, [hull], -1, (255, 255, 255), thickness=cv2.FILLED)\n",
    "\n",
    "    cv2.imwrite(\"5_mask.jpg\", mask)"
   ],
   "id": "b5da36b9fd15feae",
   "outputs": [],
   "execution_count": 61
  },
  {
   "metadata": {
    "ExecuteTime": {
     "end_time": "2025-06-25T12:19:48.416801Z",
     "start_time": "2025-06-25T12:19:48.407780Z"
    }
   },
   "cell_type": "code",
   "source": [
    "# Simplify the hull shape\n",
    "peri = cv2.arcLength(hull, True)\n",
    "approx = cv2.approxPolyDP(hull, 0.015 * peri, True)\n",
    "\n",
    "if log_steps:\n",
    "    cornered = mask.copy()\n",
    "    for corner in approx:\n",
    "        cv2.circle(cornered, corner[0], 20, (0, 0, 255), 20)\n",
    "\n",
    "    cv2.imwrite(\"6_cornered.jpg\", cornered)"
   ],
   "id": "d14e88ea6213fa2",
   "outputs": [],
   "execution_count": 62
  },
  {
   "metadata": {
    "ExecuteTime": {
     "end_time": "2025-06-25T12:19:48.434212Z",
     "start_time": "2025-06-25T12:19:48.431012Z"
    }
   },
   "cell_type": "code",
   "source": [
    "# Order points to allow perspective transform\n",
    "def order_points(pts):\n",
    "    rect = np.zeros((4, 2), dtype=np.float32)\n",
    "\n",
    "    s = pts.sum(axis=1)\n",
    "    rect[0] = pts[np.argmin(s)]  # top-left\n",
    "    rect[2] = pts[np.argmax(s)]  # bottom-right\n",
    "\n",
    "    diff = np.diff(pts, axis=1)\n",
    "    rect[1] = pts[np.argmin(diff)]  # top-right\n",
    "    rect[3] = pts[np.argmax(diff)]  # bottom-left\n",
    "\n",
    "    return rect"
   ],
   "id": "f24e49c96d857668",
   "outputs": [],
   "execution_count": 63
  },
  {
   "metadata": {
    "ExecuteTime": {
     "end_time": "2025-06-25T12:19:48.457497Z",
     "start_time": "2025-06-25T12:19:48.454963Z"
    }
   },
   "cell_type": "code",
   "source": "approx.reshape((4, 2))",
   "id": "cd75bbfc9bea2f8c",
   "outputs": [
    {
     "data": {
      "text/plain": [
       "array([[1296, 2042],\n",
       "       [ 735, 2114],\n",
       "       [ 539,  445],\n",
       "       [1152,  400]], dtype=int32)"
      ]
     },
     "execution_count": 64,
     "metadata": {},
     "output_type": "execute_result"
    }
   ],
   "execution_count": 64
  },
  {
   "metadata": {
    "ExecuteTime": {
     "end_time": "2025-06-25T12:19:48.874804Z",
     "start_time": "2025-06-25T12:19:48.872965Z"
    }
   },
   "cell_type": "code",
   "source": "corners = order_points(approx.reshape((4, 2)))",
   "id": "825cca168810aa0a",
   "outputs": [],
   "execution_count": 65
  },
  {
   "metadata": {
    "ExecuteTime": {
     "end_time": "2025-06-25T12:19:48.926972Z",
     "start_time": "2025-06-25T12:19:48.924636Z"
    }
   },
   "cell_type": "code",
   "source": [
    "sorted_points = order_points(np.array(corners))\n",
    "(tl, tr, br, bl) = sorted_points\n",
    "\n",
    "# Compute approximate width in pixels (horizontal sides)\n",
    "width_a = np.linalg.norm(br - bl)\n",
    "width_b = np.linalg.norm(tr - tl)\n",
    "max_width = max(int(width_a), int(width_b))\n",
    "\n",
    "# Compute approximate height in pixels (vertical sides)\n",
    "height_a = np.linalg.norm(tr - br)\n",
    "height_b = np.linalg.norm(tl - bl)\n",
    "max_height = max(int(height_a), int(height_b))"
   ],
   "id": "ad79333625088948",
   "outputs": [],
   "execution_count": 66
  },
  {
   "metadata": {
    "ExecuteTime": {
     "end_time": "2025-06-25T12:19:48.982175Z",
     "start_time": "2025-06-25T12:19:48.980422Z"
    }
   },
   "cell_type": "code",
   "source": "print(sorted_points)",
   "id": "b3c902df4c36a828",
   "outputs": [
    {
     "name": "stdout",
     "output_type": "stream",
     "text": [
      "[[ 539.  445.]\n",
      " [1152.  400.]\n",
      " [1296. 2042.]\n",
      " [ 735. 2114.]]\n"
     ]
    }
   ],
   "execution_count": 67
  },
  {
   "metadata": {
    "ExecuteTime": {
     "end_time": "2025-06-25T12:19:49.010419Z",
     "start_time": "2025-06-25T12:19:49.008540Z"
    }
   },
   "cell_type": "code",
   "source": [
    "output_width = 800\n",
    "\n",
    "ratio = max_width / float(output_width)\n",
    "output_height = int(max_height / ratio)"
   ],
   "id": "4dc5f060ab6af3f2",
   "outputs": [],
   "execution_count": 68
  },
  {
   "metadata": {
    "ExecuteTime": {
     "end_time": "2025-06-25T12:19:49.038368Z",
     "start_time": "2025-06-25T12:19:49.030325Z"
    }
   },
   "cell_type": "code",
   "source": [
    "# Warp the image to only keep the receipt\n",
    "\n",
    "src_pts = sorted_points\n",
    "dst_pts = np.array([\n",
    "    [0, 0],\n",
    "    [output_width, 0],\n",
    "    [output_width, output_height],\n",
    "    [0, output_height]\n",
    "], dtype=np.float32)\n",
    "\n",
    "matrix = cv2.getPerspectiveTransform(src_pts, dst_pts)\n",
    "result = cv2.warpPerspective(image.copy(), matrix, (output_width, output_height), borderMode=cv2.BORDER_CONSTANT, borderValue=(255, 255, 255))\n",
    "\n",
    "if log_steps:\n",
    "    cv2.imwrite(\"7_warped.jpg\", result)"
   ],
   "id": "694c5375f851466e",
   "outputs": [],
   "execution_count": 69
  },
  {
   "metadata": {
    "ExecuteTime": {
     "end_time": "2025-06-25T12:19:49.070876Z",
     "start_time": "2025-06-25T12:19:49.053101Z"
    }
   },
   "cell_type": "code",
   "source": [
    "# Remove background and boost contrast\n",
    "def local_contrast_filter(img):\n",
    "    img = img.astype(np.float32)\n",
    "\n",
    "    local_mean = cv2.blur(img, (15, 15))\n",
    "    diff = img - local_mean\n",
    "\n",
    "    adjusted = img + diff * 5\n",
    "\n",
    "    adjusted_clipped = np.clip(adjusted, 0, 255)\n",
    "\n",
    "    return adjusted_clipped.astype(np.uint8)\n",
    "\n",
    "original_image = result.copy()\n",
    "original_image_gray = cv2.cvtColor(original_image, cv2.COLOR_BGR2GRAY)\n",
    "\n",
    "filtered = local_contrast_filter(original_image_gray)\n",
    "\n",
    "if log_steps:\n",
    "    cv2.imwrite(\"8_enhanced.jpg\", filtered)\n",
    "\n",
    "filtered[filtered > 50] = 255\n",
    "res = filtered"
   ],
   "id": "1e354873296d8b48",
   "outputs": [],
   "execution_count": 70
  },
  {
   "metadata": {
    "ExecuteTime": {
     "end_time": "2025-06-25T12:19:49.085721Z",
     "start_time": "2025-06-25T12:19:49.084252Z"
    }
   },
   "cell_type": "code",
   "source": [
    "# res = cv2.erode(res, None, iterations=1)\n",
    "# res = cv2.dilate(res, None, iterations=1)"
   ],
   "id": "96a508330c6a05a3",
   "outputs": [],
   "execution_count": 71
  },
  {
   "metadata": {
    "ExecuteTime": {
     "end_time": "2025-06-25T12:19:49.107275Z",
     "start_time": "2025-06-25T12:19:49.101873Z"
    }
   },
   "cell_type": "code",
   "source": [
    "# Output final result\n",
    "cv2.imwrite(\"final_result.jpg\", res)"
   ],
   "id": "983efe1b1d3c8bc0",
   "outputs": [
    {
     "data": {
      "text/plain": [
       "True"
      ]
     },
     "execution_count": 72,
     "metadata": {},
     "output_type": "execute_result"
    }
   ],
   "execution_count": 72
  },
  {
   "metadata": {
    "ExecuteTime": {
     "end_time": "2025-06-25T12:19:49.128014Z",
     "start_time": "2025-06-25T12:19:49.126778Z"
    }
   },
   "cell_type": "code",
   "source": "",
   "id": "4b548acfab3e08ed",
   "outputs": [],
   "execution_count": null
  }
 ],
 "metadata": {
  "kernelspec": {
   "display_name": "Python 3",
   "language": "python",
   "name": "python3"
  },
  "language_info": {
   "codemirror_mode": {
    "name": "ipython",
    "version": 2
   },
   "file_extension": ".py",
   "mimetype": "text/x-python",
   "name": "python",
   "nbconvert_exporter": "python",
   "pygments_lexer": "ipython2",
   "version": "2.7.6"
  }
 },
 "nbformat": 4,
 "nbformat_minor": 5
}
