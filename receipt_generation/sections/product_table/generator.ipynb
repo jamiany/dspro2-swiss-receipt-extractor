{
 "cells": [
  {
   "cell_type": "code",
   "id": "initial_id",
   "metadata": {
    "collapsed": true,
    "ExecuteTime": {
     "end_time": "2025-04-10T20:38:25.667098Z",
     "start_time": "2025-04-10T20:38:25.599233Z"
    }
   },
   "source": [
    "import json\n",
    "from jinja2 import Template\n",
    "from IPython.core.display import HTML\n",
    "import numpy as np\n",
    "import numpy.random as rng\n",
    "\n",
    "rng.seed(42)"
   ],
   "outputs": [],
   "execution_count": 1
  },
  {
   "metadata": {
    "ExecuteTime": {
     "end_time": "2025-03-26T21:24:20.883335Z",
     "start_time": "2025-03-26T21:24:20.871557Z"
    }
   },
   "cell_type": "code",
   "source": [
    "template = Template('')\n",
    "with open('template_anpt.html') as f:\n",
    "    template = Template(f.read())"
   ],
   "id": "82a8ff4ab439fc19",
   "outputs": [],
   "execution_count": 10
  },
  {
   "metadata": {},
   "cell_type": "code",
   "execution_count": 11,
   "source": [
    "products = []\n",
    "with open('../../meta/products.json') as f:\n",
    "    products = json.load(f)"
   ],
   "id": "388e8b86ec73780a",
   "outputs": []
  },
  {
   "metadata": {
    "ExecuteTime": {
     "end_time": "2025-04-10T20:40:35.304864Z",
     "start_time": "2025-04-10T20:40:35.295113Z"
    }
   },
   "cell_type": "code",
   "source": [
    "from receipt_generation.sections.product_table.generator import generate_product_table\n",
    "\n",
    "data = [{'name': 'Kidneybohnen',\n",
    "  'amount': 5,\n",
    "  'price': '1.70',\n",
    "  'discount': '0.00',\n",
    "  'discounted_price': '1.70',\n",
    "  'total': '8.50',\n",
    "  'tax_id': 0},\n",
    " {'name': 'TK Johannisbeeren',\n",
    "  'amount': 9,\n",
    "  'price': '35.05',\n",
    "  'discount': '0.00',\n",
    "  'discounted_price': '35.05',\n",
    "  'total': '315.45',\n",
    "  'tax_id': 0},\n",
    " {'name': 'Bio Penne',\n",
    "  'amount': 4,\n",
    "  'price': '5.20',\n",
    "  'discount': '0.00',\n",
    "  'discounted_price': '5.20',\n",
    "  'total': '20.80',\n",
    "  'tax_id': 0},\n",
    " {'name': 'Hafermilch',\n",
    "  'amount': 9,\n",
    "  'price': '37.10',\n",
    "  'discount': '0.00',\n",
    "  'discounted_price': '37.10',\n",
    "  'total': '333.90',\n",
    "  'tax_id': 0}]\n",
    "\n",
    "display(HTML(generate_product_table(data)))"
   ],
   "id": "e51ec02b996e2d0",
   "outputs": [
    {
     "data": {
      "text/plain": [
       "<IPython.core.display.HTML object>"
      ],
      "text/html": [
       "<style>\n",
       ".product-table td:first-child, .product-table th:first-child, .product-table td:nth-child(2), .product-table th:nth-child(2) {\n",
       "    text-align: left;\n",
       "}\n",
       "\n",
       ".product-table tr:first-child th {\n",
       "    padding-bottom: 5mm;\n",
       "}\n",
       "\n",
       "th, td {\n",
       "    font-family: monospace;\n",
       "    font-weight: 400;\n",
       "    font-style: normal;\n",
       "\n",
       "    font-size: 14px;\n",
       "    line-height: 14px;\n",
       "\n",
       "    white-space: pre;\n",
       "}\n",
       "</style>\n",
       "<div class=\"section product-table\">\n",
       "    <table>\n",
       "        <tr>\n",
       "            <th>Artikelbezeichnung</th>\n",
       "            <th>Menge</th>\n",
       "            <th>Preis</th>\n",
       "            <th>Gespart</th>\n",
       "            <th>Total</th>\n",
       "            <th>#</th>\n",
       "        </tr>\n",
       "        \n",
       "            <tr>\n",
       "                <td>Kidneybohnen</td>\n",
       "                <td> 5</td>\n",
       "                <td>1.70</td>\n",
       "                \n",
       "                    <td></td>\n",
       "                \n",
       "                <td>8.50</td>\n",
       "                <td>0</td>\n",
       "            </tr>\n",
       "\n",
       "            \n",
       "        \n",
       "            <tr>\n",
       "                <td>TK Johannisbeeren</td>\n",
       "                <td> 9</td>\n",
       "                <td>35.05</td>\n",
       "                \n",
       "                    <td></td>\n",
       "                \n",
       "                <td>315.45</td>\n",
       "                <td>0</td>\n",
       "            </tr>\n",
       "\n",
       "            \n",
       "        \n",
       "            <tr>\n",
       "                <td>Bio Penne</td>\n",
       "                <td> 4</td>\n",
       "                <td>5.20</td>\n",
       "                \n",
       "                    <td></td>\n",
       "                \n",
       "                <td>20.80</td>\n",
       "                <td>0</td>\n",
       "            </tr>\n",
       "\n",
       "            \n",
       "        \n",
       "            <tr>\n",
       "                <td>Hafermilch</td>\n",
       "                <td> 9</td>\n",
       "                <td>37.10</td>\n",
       "                \n",
       "                    <td></td>\n",
       "                \n",
       "                <td>333.90</td>\n",
       "                <td>0</td>\n",
       "            </tr>\n",
       "\n",
       "            \n",
       "        \n",
       "    </table>\n",
       "</div>"
      ]
     },
     "metadata": {},
     "output_type": "display_data"
    }
   ],
   "execution_count": 4
  },
  {
   "metadata": {
    "ExecuteTime": {
     "end_time": "2025-04-10T12:03:24.367943Z",
     "start_time": "2025-04-10T12:03:24.363230Z"
    }
   },
   "cell_type": "code",
   "source": [
    "from receipt_generation.base.grocery_generator import FakeGroceryProvider\n",
    "from faker import Faker\n",
    "\n",
    "Faker.seed()\n",
    "\n",
    "fake = Faker()\n",
    "\n",
    "\n",
    "# fake.add_provider(GroceryWordProvider)\n",
    "# fake.word('class') + ' ' +  fake.word('product')"
   ],
   "id": "16450d233527248d",
   "outputs": [],
   "execution_count": 58
  },
  {
   "metadata": {
    "ExecuteTime": {
     "end_time": "2025-04-10T12:12:38.909495Z",
     "start_time": "2025-04-10T12:12:38.906508Z"
    }
   },
   "cell_type": "code",
   "source": [
    "time_formats = (\n",
    "    \"%H:%M\",\n",
    "    \"%H:%M:%S\",\n",
    ")\n",
    "\n",
    "fake.time_object().strftime(time_formats[1])"
   ],
   "id": "e970fd970872a7eb",
   "outputs": [
    {
     "name": "stdout",
     "output_type": "stream",
     "text": [
      "20:21:46\n"
     ]
    }
   ],
   "execution_count": 67
  },
  {
   "metadata": {
    "ExecuteTime": {
     "end_time": "2025-04-10T12:31:37.743781Z",
     "start_time": "2025-04-10T12:31:37.739112Z"
    }
   },
   "cell_type": "code",
   "source": [
    "date_formats = (\n",
    "    \"%d.%m.%Y\",\n",
    "    \"%d.%m.%y\",\n",
    ")\n",
    "\n",
    "fake.date_object().strftime(date_formats[0])"
   ],
   "id": "101eeb73f1a3e036",
   "outputs": [
    {
     "data": {
      "text/plain": [
       "'02.10.2005'"
      ]
     },
     "execution_count": 71,
     "metadata": {},
     "output_type": "execute_result"
    }
   ],
   "execution_count": 71
  },
  {
   "metadata": {},
   "cell_type": "code",
   "outputs": [],
   "execution_count": null,
   "source": "",
   "id": "756930a28d50482c"
  }
 ],
 "metadata": {
  "kernelspec": {
   "display_name": "Python 3",
   "language": "python",
   "name": "python3"
  },
  "language_info": {
   "codemirror_mode": {
    "name": "ipython",
    "version": 2
   },
   "file_extension": ".py",
   "mimetype": "text/x-python",
   "name": "python",
   "nbconvert_exporter": "python",
   "pygments_lexer": "ipython2",
   "version": "2.7.6"
  }
 },
 "nbformat": 4,
 "nbformat_minor": 5
}
