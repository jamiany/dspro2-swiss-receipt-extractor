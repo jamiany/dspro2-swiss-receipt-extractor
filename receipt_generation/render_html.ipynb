{
 "cells": [
  {
   "cell_type": "code",
   "id": "initial_id",
   "metadata": {
    "collapsed": true,
    "ExecuteTime": {
     "end_time": "2025-03-20T21:40:40.449428Z",
     "start_time": "2025-03-20T21:40:39.123222Z"
    }
   },
   "source": [
    "from html2image import Html2Image\n",
    "\n",
    "hti = Html2Image(custom_flags=[\n",
    "    '--default-background-color=00000000',\n",
    "    '--hide-scrollbars',\n",
    "    '--headless',\n",
    "])\n",
    "hti.screenshot(html_file='templates/template_coop.html', css_file='templates/styles_coop.css', save_as='temp.png')"
   ],
   "outputs": [
    {
     "name": "stderr",
     "output_type": "stream",
     "text": [
      "/Users/tamino/Projects/hslu/dspro/dspro2-swiss-receipt-extractor/.venv/lib/python3.9/site-packages/urllib3/__init__.py:35: NotOpenSSLWarning: urllib3 v2 only supports OpenSSL 1.1.1+, currently the 'ssl' module is compiled with 'LibreSSL 2.8.3'. See: https://github.com/urllib3/urllib3/issues/3020\n",
      "  warnings.warn(\n",
      "209260 bytes written to file /Users/tamino/Projects/hslu/dspro/dspro2-swiss-receipt-extractor/receipt_generation/temp.png\n"
     ]
    },
    {
     "data": {
      "text/plain": [
       "['/Users/tamino/Projects/hslu/dspro/dspro2-swiss-receipt-extractor/receipt_generation/temp.png']"
      ]
     },
     "execution_count": 1,
     "metadata": {},
     "output_type": "execute_result"
    }
   ],
   "execution_count": 1
  },
  {
   "metadata": {
    "ExecuteTime": {
     "end_time": "2025-03-20T21:40:40.496129Z",
     "start_time": "2025-03-20T21:40:40.450577Z"
    }
   },
   "cell_type": "code",
   "source": [
    "from PIL import Image\n",
    "import os\n",
    "\n",
    "im = Image.open(\"temp.png\")\n",
    "im = im.crop(im.getbbox())\n",
    "\n",
    "os.remove(\"temp.png\")"
   ],
   "id": "49d5bf7ad4aa10bb",
   "outputs": [],
   "execution_count": 2
  },
  {
   "metadata": {
    "ExecuteTime": {
     "end_time": "2025-03-20T21:40:41.460778Z",
     "start_time": "2025-03-20T21:40:41.376175Z"
    }
   },
   "cell_type": "code",
   "source": [
    "import numpy as np\n",
    "import numpy.random as rng\n",
    "\n",
    "rng.seed(42)\n",
    "\n",
    "image_array = np.array(im, dtype=np.float32)\n",
    "\n",
    "background_color = np.array([255, 255, 255, 255])\n",
    "\n",
    "# create a background canvas to generate a noise from\n",
    "background = np.ones(image_array.shape)\n",
    "background[:, :] = background_color\n",
    "\n",
    "# generate a noise with floating point values representing the translucency of the background color\n",
    "noise_dim = (image_array.shape[0], image_array.shape[1])\n",
    "noise = rng.normal(-5, 20, noise_dim)\n",
    "noise = np.round(np.clip(noise, 0, 50) / 50 * 255)\n",
    "\n",
    "# apply noise as opacity to the background to create a noise in the color of the background\n",
    "background[:, :, 3] = noise[:, :]\n",
    "\n",
    "# add printing error lines\n",
    "for _ in range(rng.randint(0, 6)):\n",
    "    line_pos = rng.randint(0, image_array.shape[1] + 1)\n",
    "    background[:, line_pos, :] = background_color\n",
    "\n",
    "# convert noise overlay to an image\n",
    "noise_overlay = Image.fromarray(background.astype(np.uint8))"
   ],
   "id": "8755ed89cd616f97",
   "outputs": [],
   "execution_count": 3
  },
  {
   "metadata": {
    "ExecuteTime": {
     "end_time": "2025-03-20T21:41:13.934100Z",
     "start_time": "2025-03-20T21:41:13.884026Z"
    }
   },
   "cell_type": "code",
   "source": [
    "# add the noise layer with transparency on top of the receipt image\n",
    "noisy_image = Image.alpha_composite(im, noise_overlay)\n",
    "\n",
    "# make the colors more natural by scaling them to be between 75-200\n",
    "noisy_image = Image.fromarray((np.array(noisy_image, dtype=np.float32) / 255.0 * 165.0 + 35.0).astype(np.uint8))\n",
    "\n",
    "noisy_image.save('out.png')"
   ],
   "id": "49ee824530768c81",
   "outputs": [],
   "execution_count": 6
  },
  {
   "metadata": {
    "ExecuteTime": {
     "end_time": "2025-03-20T21:41:14.964381Z",
     "start_time": "2025-03-20T21:41:14.434946Z"
    }
   },
   "cell_type": "code",
   "source": [
    "import cv2\n",
    "import numpy as np\n",
    "\n",
    "img = cv2.imread(\"out.png\", cv2.IMREAD_COLOR)\n",
    "background = cv2.imread('images/background.jpg', cv2.IMREAD_COLOR)\n",
    "\n",
    "background = cv2.resize(background, (2376, 1584))\n",
    "background = background[150:150 + 1100, 750:750+800]\n",
    "\n",
    "width = img.shape[1]\n",
    "height = img.shape[0]\n",
    "\n",
    "pos_from = np.float32([[0, 0], [width, 0], [0, height], [width, height]])\n",
    "pos_to = np.float32([[200, 50], [600, 50], [50, 1000], [750, 1000]])\n",
    "\n",
    "matrix = cv2.getPerspectiveTransform(pos_from, pos_to)\n",
    "result = cv2.warpPerspective(img, matrix, (800, 1100), background, borderMode=cv2.BORDER_TRANSPARENT)\n",
    "\n",
    "cv2.imwrite('transformed.png', result)"
   ],
   "id": "1821bb7017d1a5bd",
   "outputs": [
    {
     "data": {
      "text/plain": [
       "True"
      ]
     },
     "execution_count": 7,
     "metadata": {},
     "output_type": "execute_result"
    }
   ],
   "execution_count": 7
  },
  {
   "metadata": {},
   "cell_type": "code",
   "outputs": [],
   "execution_count": null,
   "source": "",
   "id": "66b28aef0b284f58"
  }
 ],
 "metadata": {
  "kernelspec": {
   "display_name": "Python 3",
   "language": "python",
   "name": "python3"
  },
  "language_info": {
   "codemirror_mode": {
    "name": "ipython",
    "version": 2
   },
   "file_extension": ".py",
   "mimetype": "text/x-python",
   "name": "python",
   "nbconvert_exporter": "python",
   "pygments_lexer": "ipython2",
   "version": "2.7.6"
  }
 },
 "nbformat": 4,
 "nbformat_minor": 5
}
