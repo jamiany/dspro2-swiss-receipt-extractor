{
 "cells": [
  {
   "cell_type": "code",
   "execution_count": 2,
   "id": "5975743196a19cc3",
   "metadata": {
    "ExecuteTime": {
     "end_time": "2025-05-25T15:57:30.795369Z",
     "start_time": "2025-05-25T15:56:36.286972Z"
    }
   },
   "outputs": [
    {
     "ename": "TypeError",
     "evalue": "Provider.date_time_between_dates() got an unexpected keyword argument 'start_date'",
     "output_type": "error",
     "traceback": [
      "\u001b[31m---------------------------------------------------------------------------\u001b[39m",
      "\u001b[31mTypeError\u001b[39m                                 Traceback (most recent call last)",
      "\u001b[36mCell\u001b[39m\u001b[36m \u001b[39m\u001b[32mIn[2]\u001b[39m\u001b[32m, line 18\u001b[39m\n\u001b[32m     15\u001b[39m     \u001b[38;5;28;01mfor\u001b[39;00m f \u001b[38;5;129;01min\u001b[39;00m os.listdir(output_directory):\n\u001b[32m     16\u001b[39m         os.remove(os.path.join(output_directory, f))\n\u001b[32m---> \u001b[39m\u001b[32m18\u001b[39m \u001b[43mgenerate\u001b[49m\u001b[43m(\u001b[49m\u001b[32;43m1000\u001b[39;49m\u001b[43m)\u001b[49m\n",
      "\u001b[36mFile \u001b[39m\u001b[32m~/sources/dspro2/dspro2-swiss-receipt-extractor/receipt_generation/generate.py:20\u001b[39m, in \u001b[36mgenerate\u001b[39m\u001b[34m(count)\u001b[39m\n\u001b[32m     17\u001b[39m \u001b[38;5;28mmap\u001b[39m = {}\n\u001b[32m     19\u001b[39m \u001b[38;5;28;01mfor\u001b[39;00m i \u001b[38;5;129;01min\u001b[39;00m \u001b[38;5;28mrange\u001b[39m(count):\n\u001b[32m---> \u001b[39m\u001b[32m20\u001b[39m     \u001b[38;5;28mmap\u001b[39m[i] = \u001b[43mgenerate_receipt_data\u001b[49m\u001b[43m(\u001b[49m\u001b[43m)\u001b[49m\n\u001b[32m     22\u001b[39m \u001b[38;5;28;01mwith\u001b[39;00m Pool() \u001b[38;5;28;01mas\u001b[39;00m pool:\n\u001b[32m     23\u001b[39m     pool.map(process, \u001b[38;5;28mmap\u001b[39m.items())\n",
      "\u001b[36mFile \u001b[39m\u001b[32m~/sources/dspro2/dspro2-swiss-receipt-extractor/receipt_generation/base/receipt.py:73\u001b[39m, in \u001b[36mgenerate_receipt_data\u001b[39m\u001b[34m()\u001b[39m\n\u001b[32m     41\u001b[39m     products.append({\n\u001b[32m     42\u001b[39m         \u001b[33m'\u001b[39m\u001b[33mname\u001b[39m\u001b[33m'\u001b[39m: fake.grocery(),\n\u001b[32m     43\u001b[39m         \u001b[33m'\u001b[39m\u001b[33mamount\u001b[39m\u001b[33m'\u001b[39m: amount,\n\u001b[32m   (...)\u001b[39m\u001b[32m     48\u001b[39m         \u001b[33m'\u001b[39m\u001b[33mtotal\u001b[39m\u001b[33m'\u001b[39m: price_from_baseline(total_baseline),\n\u001b[32m     49\u001b[39m     })\n\u001b[32m     51\u001b[39m chain = fake.chain()\n\u001b[32m     53\u001b[39m \u001b[38;5;28;01mreturn\u001b[39;00m {\n\u001b[32m     54\u001b[39m     \u001b[33m'\u001b[39m\u001b[33mshop\u001b[39m\u001b[33m'\u001b[39m: {\n\u001b[32m     55\u001b[39m         \u001b[33m'\u001b[39m\u001b[33mchain\u001b[39m\u001b[33m'\u001b[39m: chain,\n\u001b[32m     56\u001b[39m         \u001b[33m'\u001b[39m\u001b[33mbranch\u001b[39m\u001b[33m'\u001b[39m: fake.branch(),\n\u001b[32m     57\u001b[39m \n\u001b[32m     58\u001b[39m         \u001b[33m'\u001b[39m\u001b[33maddress\u001b[39m\u001b[33m'\u001b[39m: fake.address(),\n\u001b[32m     59\u001b[39m         \u001b[33m'\u001b[39m\u001b[33mpostcode\u001b[39m\u001b[33m'\u001b[39m: fake.postal_code(),\n\u001b[32m     60\u001b[39m         \u001b[33m'\u001b[39m\u001b[33mcity\u001b[39m\u001b[33m'\u001b[39m: fake.city(),\n\u001b[32m     61\u001b[39m \n\u001b[32m     62\u001b[39m         \u001b[33m'\u001b[39m\u001b[33mtelephone\u001b[39m\u001b[33m'\u001b[39m: fake.phone_number(),\n\u001b[32m     63\u001b[39m         \u001b[33m'\u001b[39m\u001b[33memail\u001b[39m\u001b[33m'\u001b[39m: fake.email(),\n\u001b[32m     64\u001b[39m         \u001b[33m'\u001b[39m\u001b[33mwebsite\u001b[39m\u001b[33m'\u001b[39m: fake.website(chain),\n\u001b[32m     65\u001b[39m \n\u001b[32m     66\u001b[39m         \u001b[33m'\u001b[39m\u001b[33mtax\u001b[39m\u001b[33m'\u001b[39m: fake.tax_number(),\n\u001b[32m     67\u001b[39m \n\u001b[32m     68\u001b[39m         \u001b[33m'\u001b[39m\u001b[33mstaff\u001b[39m\u001b[33m'\u001b[39m: fake.first_name(),\n\u001b[32m     69\u001b[39m     },\n\u001b[32m     70\u001b[39m     \u001b[33m'\u001b[39m\u001b[33mmeta\u001b[39m\u001b[33m'\u001b[39m: {\n\u001b[32m     71\u001b[39m         \u001b[33m'\u001b[39m\u001b[33mimg_seed\u001b[39m\u001b[33m'\u001b[39m: fake.random_number(\u001b[32m20\u001b[39m),\n\u001b[32m     72\u001b[39m         \u001b[33m'\u001b[39m\u001b[33mgen_seed\u001b[39m\u001b[33m'\u001b[39m: fake.random_number(\u001b[32m20\u001b[39m),\n\u001b[32m---> \u001b[39m\u001b[32m73\u001b[39m         \u001b[33m'\u001b[39m\u001b[33mdate\u001b[39m\u001b[33m'\u001b[39m: \u001b[43mfake\u001b[49m\u001b[43m.\u001b[49m\u001b[43mdate_time_between_dates\u001b[49m\u001b[43m(\u001b[49m\u001b[43mstart_date\u001b[49m\u001b[43m=\u001b[49m\u001b[43mdatetime\u001b[49m\u001b[43m(\u001b[49m\u001b[32;43m2023\u001b[39;49m\u001b[43m,\u001b[49m\u001b[43m \u001b[49m\u001b[32;43m1\u001b[39;49m\u001b[43m,\u001b[49m\u001b[43m \u001b[49m\u001b[32;43m1\u001b[39;49m\u001b[43m)\u001b[49m\u001b[43m,\u001b[49m\u001b[43m \u001b[49m\u001b[43mend_date\u001b[49m\u001b[43m=\u001b[49m\u001b[43mdatetime\u001b[49m\u001b[43m(\u001b[49m\u001b[32;43m2025\u001b[39;49m\u001b[43m,\u001b[49m\u001b[43m \u001b[49m\u001b[32;43m3\u001b[39;49m\u001b[43m,\u001b[49m\u001b[43m \u001b[49m\u001b[32;43m30\u001b[39;49m\u001b[43m)\u001b[49m\u001b[43m)\u001b[49m,\n\u001b[32m     74\u001b[39m         \u001b[33m'\u001b[39m\u001b[33mtime\u001b[39m\u001b[33m'\u001b[39m: fake.time_object(),\n\u001b[32m     75\u001b[39m     },\n\u001b[32m     76\u001b[39m     \u001b[33m'\u001b[39m\u001b[33mpurchase\u001b[39m\u001b[33m'\u001b[39m: {\n\u001b[32m     77\u001b[39m         \u001b[33m'\u001b[39m\u001b[33mpayment_method\u001b[39m\u001b[33m'\u001b[39m: \u001b[33m'\u001b[39m\u001b[33mMastercard\u001b[39m\u001b[33m'\u001b[39m,  \u001b[38;5;66;03m# TODO\u001b[39;00m\n\u001b[32m     78\u001b[39m         \u001b[33m'\u001b[39m\u001b[33mproducts\u001b[39m\u001b[33m'\u001b[39m: products,\n\u001b[32m     79\u001b[39m         \u001b[33m'\u001b[39m\u001b[33mtotal_price\u001b[39m\u001b[33m'\u001b[39m: price_from_baseline(overall_total_baseline),\n\u001b[32m     80\u001b[39m         \u001b[33m'\u001b[39m\u001b[33mtotal_discount\u001b[39m\u001b[33m'\u001b[39m: price_from_baseline(overall_discount_baseline),\n\u001b[32m     81\u001b[39m     }\n\u001b[32m     82\u001b[39m }\n",
      "\u001b[31mTypeError\u001b[39m: Provider.date_time_between_dates() got an unexpected keyword argument 'start_date'"
     ]
    }
   ],
   "source": [
    "import sys\n",
    "import cv2\n",
    "\n",
    "# Add the parent directory to sys.path so local packages can be imported\n",
    "import os\n",
    "sys.path.append(os.path.abspath(os.path.join(os.getcwd(), '..')))\n",
    "\n",
    "from preprocessing.extraction.extract_receipt import extract_receipt\n",
    "from receipt_generation.generate import generate\n",
    "\n",
    "output_directory = 'out'\n",
    "if not os.path.exists(output_directory):\n",
    "    os.mkdir(output_directory)\n",
    "else:\n",
    "    for f in os.listdir(output_directory):\n",
    "        os.remove(os.path.join(output_directory, f))\n",
    "\n",
    "generate(1000)"
   ]
  },
  {
   "cell_type": "code",
   "execution_count": null,
   "id": "e35c259581d3d76b",
   "metadata": {
    "ExecuteTime": {
     "end_time": "2025-05-25T14:04:08.618661Z",
     "start_time": "2025-05-25T14:04:06.607745Z"
    }
   },
   "outputs": [
    {
     "name": "stdout",
     "output_type": "stream",
     "text": [
      "5 1 -7 0\n"
     ]
    },
    {
     "data": {
      "text/plain": [
       "True"
      ]
     },
     "execution_count": 2,
     "metadata": {},
     "output_type": "execute_result"
    }
   ],
   "source": [
    "from receipt_generation.render_html import render_html\n",
    "from receipt_generation.base.receipt import generate_receipt_data\n",
    "from receipt_generation.generate_html import generate_html_receipt\n",
    "\n",
    "import numpy.random as rng\n",
    "import cv2\n",
    "\n",
    "# rng.seed(42)\n",
    "\n",
    "name = 'test'\n",
    "data = generate_receipt_data()\n",
    "\n",
    "generate_html_receipt(name, data)\n",
    "\n",
    "res = render_html(name)\n",
    "\n",
    "cv2.imwrite(f'temp/{name}_original.jpg', res)"
   ]
  },
  {
   "cell_type": "code",
   "execution_count": 8,
   "id": "ffc57b5aae40204a",
   "metadata": {
    "ExecuteTime": {
     "end_time": "2025-05-25T11:32:41.489667Z",
     "start_time": "2025-05-25T11:32:41.334631Z"
    }
   },
   "outputs": [
    {
     "data": {
      "text/plain": [
       "True"
      ]
     },
     "execution_count": 8,
     "metadata": {},
     "output_type": "execute_result"
    }
   ],
   "source": [
    "from preprocessing.extraction.extract_receipt import extract_receipt\n",
    "\n",
    "preprocessed = extract_receipt(res)\n",
    "\n",
    "cv2.imwrite(f'temp/{name}_preprocessed.jpg', preprocessed)"
   ]
  },
  {
   "cell_type": "code",
   "execution_count": null,
   "id": "4bc47bc53f7632a3",
   "metadata": {},
   "outputs": [],
   "source": []
  }
 ],
 "metadata": {
  "kernelspec": {
   "display_name": "Python 3",
   "language": "python",
   "name": "python3"
  },
  "language_info": {
   "codemirror_mode": {
    "name": "ipython",
    "version": 3
   },
   "file_extension": ".py",
   "mimetype": "text/x-python",
   "name": "python",
   "nbconvert_exporter": "python",
   "pygments_lexer": "ipython3",
   "version": "3.12.9"
  }
 },
 "nbformat": 4,
 "nbformat_minor": 5
}
