{
 "cells": [
  {
   "cell_type": "code",
   "id": "initial_id",
   "metadata": {
    "collapsed": true,
    "ExecuteTime": {
     "end_time": "2025-04-15T15:33:27.793432Z",
     "start_time": "2025-04-15T15:33:27.624182Z"
    }
   },
   "source": [
    "from receipt_generation.base.receipt import generate_receipt_data\n",
    "from receipt_generation.generate_html import generate_html_receipt\n",
    "import numpy.random as rng\n",
    "\n",
    "rng.seed(42)\n",
    "\n",
    "receipts = []\n",
    "\n",
    "for _ in range(100):\n",
    "    receipts.append(generate_receipt_data())"
   ],
   "outputs": [],
   "execution_count": 1
  },
  {
   "metadata": {
    "ExecuteTime": {
     "end_time": "2025-04-15T15:33:27.799049Z",
     "start_time": "2025-04-15T15:33:27.794525Z"
    }
   },
   "cell_type": "code",
   "source": "receipts[0]",
   "id": "d53209f35c6cc53e",
   "outputs": [
    {
     "data": {
      "text/plain": [
       "{'shop': {'chain': 'Coop',\n",
       "  'branch': 'Luzern Bahnhof',\n",
       "  'address': 'Mattweg 389',\n",
       "  'postcode': '6574',\n",
       "  'city': 'Rotkreuz',\n",
       "  'telephone': '+41 37 980 97 43',\n",
       "  'email': 'davidsraimund@example.org',\n",
       "  'website': 'www.coop.swiss',\n",
       "  'tax': 'CHE-718.370.926',\n",
       "  'staff': 'Axel'},\n",
       " 'meta': {'img_seed': 82261869426444841936,\n",
       "  'gen_seed': 75240583341862789395,\n",
       "  'date': datetime.date(1986, 3, 18),\n",
       "  'time': datetime.time(14, 0, 2, 346735)},\n",
       " 'purchase': {'payment_method': 'Mastercard',\n",
       "  'products': [{'name': 'Kidneybohnen',\n",
       "    'amount': 5,\n",
       "    'price': '1.70',\n",
       "    'discount': '0.00',\n",
       "    'discounted_price': '1.70',\n",
       "    'total': '8.50',\n",
       "    'tax_id': 0},\n",
       "   {'name': 'TK Johannisbeeren',\n",
       "    'amount': 9,\n",
       "    'price': '35.05',\n",
       "    'discount': '0.00',\n",
       "    'discounted_price': '35.05',\n",
       "    'total': '315.45',\n",
       "    'tax_id': 0},\n",
       "   {'name': 'Bio Penne',\n",
       "    'amount': 4,\n",
       "    'price': '5.20',\n",
       "    'discount': '0.00',\n",
       "    'discounted_price': '5.20',\n",
       "    'total': '20.80',\n",
       "    'tax_id': 0},\n",
       "   {'name': 'Hafermilch',\n",
       "    'amount': 9,\n",
       "    'price': '37.10',\n",
       "    'discount': '0.00',\n",
       "    'discounted_price': '37.10',\n",
       "    'total': '333.90',\n",
       "    'tax_id': 0}],\n",
       "  'total_price': '678.65',\n",
       "  'total_discount': '0.00'}}"
      ]
     },
     "execution_count": 2,
     "metadata": {},
     "output_type": "execute_result"
    }
   ],
   "execution_count": 2
  },
  {
   "metadata": {
    "ExecuteTime": {
     "end_time": "2025-04-15T15:34:12.882477Z",
     "start_time": "2025-04-15T15:34:00.715776Z"
    }
   },
   "cell_type": "code",
   "source": [
    "from receipt_generation.generate import generate\n",
    "\n",
    "generate(20)"
   ],
   "id": "5975743196a19cc3",
   "outputs": [
    {
     "name": "stderr",
     "output_type": "stream",
     "text": [
      "/Users/tamino/Projects/hslu/dspro/dspro2-swiss-receipt-extractor/.venv/lib/python3.9/site-packages/urllib3/__init__.py:35: NotOpenSSLWarning: urllib3 v2 only supports OpenSSL 1.1.1+, currently the 'ssl' module is compiled with 'LibreSSL 2.8.3'. See: https://github.com/urllib3/urllib3/issues/3020\n",
      "  warnings.warn(\n",
      "/Users/tamino/Projects/hslu/dspro/dspro2-swiss-receipt-extractor/.venv/lib/python3.9/site-packages/urllib3/__init__.py:35: NotOpenSSLWarning: urllib3 v2 only supports OpenSSL 1.1.1+, currently the 'ssl' module is compiled with 'LibreSSL 2.8.3'. See: https://github.com/urllib3/urllib3/issues/3020\n",
      "  warnings.warn(\n",
      "/Users/tamino/Projects/hslu/dspro/dspro2-swiss-receipt-extractor/.venv/lib/python3.9/site-packages/urllib3/__init__.py:35: NotOpenSSLWarning: urllib3 v2 only supports OpenSSL 1.1.1+, currently the 'ssl' module is compiled with 'LibreSSL 2.8.3'. See: https://github.com/urllib3/urllib3/issues/3020\n",
      "  warnings.warn(\n",
      "/Users/tamino/Projects/hslu/dspro/dspro2-swiss-receipt-extractor/.venv/lib/python3.9/site-packages/urllib3/__init__.py:35: NotOpenSSLWarning: urllib3 v2 only supports OpenSSL 1.1.1+, currently the 'ssl' module is compiled with 'LibreSSL 2.8.3'. See: https://github.com/urllib3/urllib3/issues/3020\n",
      "  warnings.warn(\n",
      "/Users/tamino/Projects/hslu/dspro/dspro2-swiss-receipt-extractor/.venv/lib/python3.9/site-packages/urllib3/__init__.py:35: NotOpenSSLWarning: urllib3 v2 only supports OpenSSL 1.1.1+, currently the 'ssl' module is compiled with 'LibreSSL 2.8.3'. See: https://github.com/urllib3/urllib3/issues/3020\n",
      "  warnings.warn(\n",
      "/Users/tamino/Projects/hslu/dspro/dspro2-swiss-receipt-extractor/.venv/lib/python3.9/site-packages/urllib3/__init__.py:35: NotOpenSSLWarning: urllib3 v2 only supports OpenSSL 1.1.1+, currently the 'ssl' module is compiled with 'LibreSSL 2.8.3'. See: https://github.com/urllib3/urllib3/issues/3020\n",
      "  warnings.warn(\n",
      "/Users/tamino/Projects/hslu/dspro/dspro2-swiss-receipt-extractor/.venv/lib/python3.9/site-packages/urllib3/__init__.py:35: NotOpenSSLWarning: urllib3 v2 only supports OpenSSL 1.1.1+, currently the 'ssl' module is compiled with 'LibreSSL 2.8.3'. See: https://github.com/urllib3/urllib3/issues/3020\n",
      "  warnings.warn(\n",
      "/Users/tamino/Projects/hslu/dspro/dspro2-swiss-receipt-extractor/.venv/lib/python3.9/site-packages/urllib3/__init__.py:35: NotOpenSSLWarning: urllib3 v2 only supports OpenSSL 1.1.1+, currently the 'ssl' module is compiled with 'LibreSSL 2.8.3'. See: https://github.com/urllib3/urllib3/issues/3020\n",
      "  warnings.warn(\n",
      "/Users/tamino/Projects/hslu/dspro/dspro2-swiss-receipt-extractor/.venv/lib/python3.9/site-packages/urllib3/__init__.py:35: NotOpenSSLWarning: urllib3 v2 only supports OpenSSL 1.1.1+, currently the 'ssl' module is compiled with 'LibreSSL 2.8.3'. See: https://github.com/urllib3/urllib3/issues/3020\n",
      "  warnings.warn(\n",
      "/Users/tamino/Projects/hslu/dspro/dspro2-swiss-receipt-extractor/.venv/lib/python3.9/site-packages/urllib3/__init__.py:35: NotOpenSSLWarning: urllib3 v2 only supports OpenSSL 1.1.1+, currently the 'ssl' module is compiled with 'LibreSSL 2.8.3'. See: https://github.com/urllib3/urllib3/issues/3020\n",
      "  warnings.warn(\n",
      "/Users/tamino/Projects/hslu/dspro/dspro2-swiss-receipt-extractor/.venv/lib/python3.9/site-packages/urllib3/__init__.py:35: NotOpenSSLWarning: urllib3 v2 only supports OpenSSL 1.1.1+, currently the 'ssl' module is compiled with 'LibreSSL 2.8.3'. See: https://github.com/urllib3/urllib3/issues/3020\n",
      "  warnings.warn(\n",
      "/Users/tamino/Projects/hslu/dspro/dspro2-swiss-receipt-extractor/.venv/lib/python3.9/site-packages/urllib3/__init__.py:35: NotOpenSSLWarning: urllib3 v2 only supports OpenSSL 1.1.1+, currently the 'ssl' module is compiled with 'LibreSSL 2.8.3'. See: https://github.com/urllib3/urllib3/issues/3020\n",
      "  warnings.warn(\n",
      "179419 bytes written to file /Users/tamino/Projects/hslu/dspro/dspro2-swiss-receipt-extractor/receipt_generation/temp/d34086bd-f8e1-43cf-a269-7e9b44aedf64.png\n",
      "232463 bytes written to file /Users/tamino/Projects/hslu/dspro/dspro2-swiss-receipt-extractor/receipt_generation/temp/070b5bd2-24d8-46e7-bbc0-12793a4e0c94.png\n",
      "137800 bytes written to file /Users/tamino/Projects/hslu/dspro/dspro2-swiss-receipt-extractor/receipt_generation/temp/36f427c0-b4e5-4e52-928c-f5065a79c49e.png\n",
      "261386 bytes written to file /Users/tamino/Projects/hslu/dspro/dspro2-swiss-receipt-extractor/receipt_generation/temp/90e67236-5621-47d2-a4e3-17514913e5cf.png\n",
      "209063 bytes written to file /Users/tamino/Projects/hslu/dspro/dspro2-swiss-receipt-extractor/receipt_generation/temp/abd9ae5d-b806-413d-b146-9956b451b181.png\n",
      "273389 bytes written to file /Users/tamino/Projects/hslu/dspro/dspro2-swiss-receipt-extractor/receipt_generation/temp/9d4e3f4b-3b47-4539-90f0-0f060e31c13b.png\n",
      "186760 bytes written to file /Users/tamino/Projects/hslu/dspro/dspro2-swiss-receipt-extractor/receipt_generation/temp/a04e672f-52a2-4c71-be8e-ac29a0fe08c8.png\n",
      "159520 bytes written to file /Users/tamino/Projects/hslu/dspro/dspro2-swiss-receipt-extractor/receipt_generation/temp/b1baed07-a9fc-44c0-97c6-a8b423bd93d5.png\n",
      "206549 bytes written to file /Users/tamino/Projects/hslu/dspro/dspro2-swiss-receipt-extractor/receipt_generation/temp/d9660782-4981-422b-9346-8c94d225c81c.png\n",
      "251185 bytes written to file /Users/tamino/Projects/hslu/dspro/dspro2-swiss-receipt-extractor/receipt_generation/temp/f063c0b5-25e8-47f8-86bf-674061040ebe.png\n",
      "187212 bytes written to file /Users/tamino/Projects/hslu/dspro/dspro2-swiss-receipt-extractor/receipt_generation/temp/23160349-c5c9-4d25-956a-a5a61fc56cf2.png\n",
      "[32179:30120094:0415/173407.214150:ERROR:os_integration_manager.cc(251)] Can't perform OS integration while the browser is shutting down.\n",
      "[32179:30120094:0415/173407.259596:ERROR:externally_managed_app_manager.cc(612)] https://docs.google.com/document/installwebapp?usp=chrome_default from install source 1 failed to install with reason 21\n",
      "[32390:30123166:0415/173407.322456:ERROR:mach_port_rendezvous.cc(653)] bootstrap_look_up com.google.Chrome.MachPortRendezvousServer.32179: Unknown service name (1102)\n",
      "[32390:30123166:0415/173407.322687:ERROR:shared_memory_switch.cc(257)] No rendezvous client, terminating process (parent died?)\n",
      "145638 bytes written to file /Users/tamino/Projects/hslu/dspro/dspro2-swiss-receipt-extractor/receipt_generation/temp/a339336a-8a5b-476d-99c5-63f107b7ba0e.png\n",
      "252056 bytes written to file /Users/tamino/Projects/hslu/dspro/dspro2-swiss-receipt-extractor/receipt_generation/temp/112047e4-53cc-4d0b-b3e2-c93abe3c8227.png\n",
      "139269 bytes written to file /Users/tamino/Projects/hslu/dspro/dspro2-swiss-receipt-extractor/receipt_generation/temp/c1f1446f-2f8d-4e94-b45d-323544d7bc95.png\n",
      "215110 bytes written to file /Users/tamino/Projects/hslu/dspro/dspro2-swiss-receipt-extractor/receipt_generation/temp/5735b021-713d-4071-9614-1ddfd6e8d0a2.png\n",
      "252130 bytes written to file /Users/tamino/Projects/hslu/dspro/dspro2-swiss-receipt-extractor/receipt_generation/temp/c5f16a28-6994-49c8-9194-2ff8bff922a1.png\n",
      "170554 bytes written to file /Users/tamino/Projects/hslu/dspro/dspro2-swiss-receipt-extractor/receipt_generation/temp/f0e1bc4c-1c92-49fd-94cc-7a00ac810471.png\n",
      "240835 bytes written to file /Users/tamino/Projects/hslu/dspro/dspro2-swiss-receipt-extractor/receipt_generation/temp/b0085ec9-ebd4-49d5-a523-4048da3cbe26.png\n",
      "238439 bytes written to file /Users/tamino/Projects/hslu/dspro/dspro2-swiss-receipt-extractor/receipt_generation/temp/bcde9969-93a9-4cc9-b753-809b5a24b4ff.png\n",
      "138590 bytes written to file /Users/tamino/Projects/hslu/dspro/dspro2-swiss-receipt-extractor/receipt_generation/temp/4cb10a44-dbd9-4f62-8b9e-76d78588d2a8.png\n"
     ]
    }
   ],
   "execution_count": 1
  },
  {
   "metadata": {
    "ExecuteTime": {
     "end_time": "2025-04-15T15:33:35.826909Z",
     "start_time": "2025-04-15T15:33:35.825129Z"
    }
   },
   "cell_type": "code",
   "source": "",
   "id": "e35c259581d3d76b",
   "outputs": [],
   "execution_count": 3
  }
 ],
 "metadata": {
  "kernelspec": {
   "display_name": "Python 3",
   "language": "python",
   "name": "python3"
  },
  "language_info": {
   "codemirror_mode": {
    "name": "ipython",
    "version": 2
   },
   "file_extension": ".py",
   "mimetype": "text/x-python",
   "name": "python",
   "nbconvert_exporter": "python",
   "pygments_lexer": "ipython2",
   "version": "2.7.6"
  }
 },
 "nbformat": 4,
 "nbformat_minor": 5
}
