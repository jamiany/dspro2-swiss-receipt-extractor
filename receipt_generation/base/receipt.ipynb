{
 "cells": [
  {
   "cell_type": "code",
   "id": "initial_id",
   "metadata": {
    "collapsed": true,
    "ExecuteTime": {
     "end_time": "2025-04-12T08:47:14.171970Z",
     "start_time": "2025-04-12T08:47:14.165814Z"
    }
   },
   "source": "seed = 42",
   "outputs": [],
   "execution_count": 1
  },
  {
   "metadata": {
    "ExecuteTime": {
     "end_time": "2025-04-12T08:47:14.239262Z",
     "start_time": "2025-04-12T08:47:14.173345Z"
    }
   },
   "cell_type": "code",
   "source": [
    "from faker import Faker\n",
    "from receipt_generation.base.location_generator import FakeLocationProvider\n",
    "from receipt_generation.base.grocery_generator import FakeGroceryProvider\n",
    "\n",
    "Faker.seed(seed)\n",
    "\n",
    "fake = Faker('de_DE')\n",
    "fake.add_provider(FakeLocationProvider)\n",
    "fake.add_provider(FakeGroceryProvider)"
   ],
   "id": "69630f1adfdf067a",
   "outputs": [],
   "execution_count": 2
  },
  {
   "metadata": {
    "ExecuteTime": {
     "end_time": "2025-04-12T08:47:14.243954Z",
     "start_time": "2025-04-12T08:47:14.239940Z"
    }
   },
   "cell_type": "code",
   "source": [
    "products = []\n",
    "\n",
    "for _ in range(fake.random_int(1, 20)):\n",
    "    # prices between 0.45 - 50.00\n",
    "    price_baseline = fake.random_int(9, 1000)\n",
    "\n",
    "    # approximately 7% probability to use decimal amount\n",
    "    if fake.random_int(0, 14) >= 14:\n",
    "        amount = '%.3f' % (float(fake.random_int(10, 2999)) / 1000)\n",
    "    else:\n",
    "        amount = fake.random_int(1, 10)\n",
    "    \n",
    "    # 5% probability to add a discount\n",
    "    discount_baseline = 0\n",
    "    if fake.random_int(0, 19) >= 19:\n",
    "        discount_baseline = fake.random_int(9, price_baseline / 2)\n",
    "\n",
    "    products.append({\n",
    "        'name': fake.grocery(),\n",
    "        'amount': amount,\n",
    "        'price': '%.2f' % (float(price_baseline) * 0.05),\n",
    "        'discount': '%.2f' % (float(discount_baseline) * 0.05),\n",
    "    })\n",
    "\n",
    "chain = fake.chain()\n",
    "\n",
    "raw_receipt = {\n",
    "    'shop': {\n",
    "        'chain': chain,\n",
    "        'branch': fake.branch(),\n",
    "\n",
    "        'address': fake.address(),\n",
    "        'postcode': fake.postal_code(),\n",
    "        'city': fake.city(),\n",
    "\n",
    "        'telephone': fake.phone_number(),\n",
    "        'email': fake.email(),\n",
    "        'website': fake.website(chain),\n",
    "        \n",
    "        'tax': fake.tax_number(),\n",
    "\n",
    "        'staff': fake.first_name(),\n",
    "    },\n",
    "    'meta': {\n",
    "        'date': fake.date_object(),\n",
    "        'time': fake.time_object(),\n",
    "    },\n",
    "    'products': products\n",
    "}"
   ],
   "id": "81f42e1282b9ce5c",
   "outputs": [],
   "execution_count": 3
  },
  {
   "metadata": {
    "ExecuteTime": {
     "end_time": "2025-04-12T08:47:14.249083Z",
     "start_time": "2025-04-12T08:47:14.244918Z"
    }
   },
   "cell_type": "code",
   "source": "raw_receipt",
   "id": "8b9454a5ce8b4cf0",
   "outputs": [
    {
     "data": {
      "text/plain": [
       "{'shop': {'chain': 'Coop',\n",
       "  'branch': 'Luzern Bahnhof',\n",
       "  'address': 'Mattweg 389',\n",
       "  'postcode': '6574',\n",
       "  'city': 'Rotkreuz',\n",
       "  'telephone': '+41 37 980 97 43',\n",
       "  'email': 'davidsraimund@example.org',\n",
       "  'website': 'www.coop.swiss',\n",
       "  'tax': 'CHE-718.370.926',\n",
       "  'staff': 'Axel'},\n",
       " 'meta': {'date': datetime.date(2010, 5, 4),\n",
       "  'time': datetime.time(16, 28, 6, 264747)},\n",
       " 'products': [{'name': 'Kidneybohnen',\n",
       "   'amount': 5,\n",
       "   'price': '1.70',\n",
       "   'discount': '0.00'},\n",
       "  {'name': 'TK Johannisbeeren',\n",
       "   'amount': 9,\n",
       "   'price': '35.05',\n",
       "   'discount': '0.00'},\n",
       "  {'name': 'Bio Penne', 'amount': 4, 'price': '5.20', 'discount': '0.00'},\n",
       "  {'name': 'Hafermilch', 'amount': 9, 'price': '37.10', 'discount': '0.00'}]}"
      ]
     },
     "execution_count": 4,
     "metadata": {},
     "output_type": "execute_result"
    }
   ],
   "execution_count": 4
  },
  {
   "metadata": {
    "ExecuteTime": {
     "end_time": "2025-04-12T08:47:14.506055Z",
     "start_time": "2025-04-12T08:47:14.250405Z"
    }
   },
   "cell_type": "code",
   "source": [
    "from receipt_generation.generate_html import generate_receipt\n",
    "\n",
    "generate_receipt(raw_receipt)"
   ],
   "id": "f68b02a3da1876ac",
   "outputs": [
    {
     "ename": "FileNotFoundError",
     "evalue": "[Errno 2] No such file or directory: './template_title.html'",
     "output_type": "error",
     "traceback": [
      "\u001B[0;31m---------------------------------------------------------------------------\u001B[0m",
      "\u001B[0;31mFileNotFoundError\u001B[0m                         Traceback (most recent call last)",
      "Cell \u001B[0;32mIn[5], line 3\u001B[0m\n\u001B[1;32m      1\u001B[0m \u001B[38;5;28;01mfrom\u001B[39;00m\u001B[38;5;250m \u001B[39m\u001B[38;5;21;01mreceipt_generation\u001B[39;00m\u001B[38;5;21;01m.\u001B[39;00m\u001B[38;5;21;01mbase\u001B[39;00m\u001B[38;5;21;01m.\u001B[39;00m\u001B[38;5;21;01mgenerator\u001B[39;00m\u001B[38;5;250m \u001B[39m\u001B[38;5;28;01mimport\u001B[39;00m generate_receipt\n\u001B[0;32m----> 3\u001B[0m \u001B[43mgenerate_receipt\u001B[49m\u001B[43m(\u001B[49m\u001B[43mraw_receipt\u001B[49m\u001B[43m)\u001B[49m\n",
      "File \u001B[0;32m~/Projects/hslu/dspro/dspro2-swiss-receipt-extractor/receipt_generation/base/generator.py:13\u001B[0m, in \u001B[0;36mgenerate_receipt\u001B[0;34m(data)\u001B[0m\n\u001B[1;32m     12\u001B[0m \u001B[38;5;28;01mdef\u001B[39;00m\u001B[38;5;250m \u001B[39m\u001B[38;5;21mgenerate_receipt\u001B[39m(data):\n\u001B[0;32m---> 13\u001B[0m     title \u001B[38;5;241m=\u001B[39m \u001B[43mgenerate_title\u001B[49m\u001B[43m(\u001B[49m\u001B[43mdata\u001B[49m\u001B[43m)\u001B[49m\n\u001B[1;32m     14\u001B[0m     address \u001B[38;5;241m=\u001B[39m generate_address(data)\n\u001B[1;32m     15\u001B[0m     product_table \u001B[38;5;241m=\u001B[39m generate_product_table(data)\n",
      "File \u001B[0;32m~/Projects/hslu/dspro/dspro2-swiss-receipt-extractor/receipt_generation/sections/title/generator.py:7\u001B[0m, in \u001B[0;36mgenerate_title\u001B[0;34m(data)\u001B[0m\n\u001B[1;32m      4\u001B[0m \u001B[38;5;28;01mdef\u001B[39;00m\u001B[38;5;250m \u001B[39m\u001B[38;5;21mgenerate_title\u001B[39m(data):\n\u001B[1;32m      5\u001B[0m     shop \u001B[38;5;241m=\u001B[39m data[\u001B[38;5;124m'\u001B[39m\u001B[38;5;124mshop\u001B[39m\u001B[38;5;124m'\u001B[39m]\n\u001B[0;32m----> 7\u001B[0m     \u001B[38;5;28;01mwith\u001B[39;00m \u001B[38;5;28;43mopen\u001B[39;49m\u001B[43m(\u001B[49m\u001B[38;5;124;43m'\u001B[39;49m\u001B[38;5;124;43m./template_title.html\u001B[39;49m\u001B[38;5;124;43m'\u001B[39;49m\u001B[43m)\u001B[49m \u001B[38;5;28;01mas\u001B[39;00m f:\n\u001B[1;32m      8\u001B[0m         template \u001B[38;5;241m=\u001B[39m Template(f\u001B[38;5;241m.\u001B[39mread())\n\u001B[1;32m     10\u001B[0m         result \u001B[38;5;241m=\u001B[39m template\u001B[38;5;241m.\u001B[39mrender({\n\u001B[1;32m     11\u001B[0m             \u001B[38;5;124m'\u001B[39m\u001B[38;5;124mtitle\u001B[39m\u001B[38;5;124m'\u001B[39m: shop[\u001B[38;5;124m'\u001B[39m\u001B[38;5;124mchain\u001B[39m\u001B[38;5;124m'\u001B[39m]\n\u001B[1;32m     12\u001B[0m         })\n",
      "\u001B[0;31mFileNotFoundError\u001B[0m: [Errno 2] No such file or directory: './template_title.html'"
     ]
    }
   ],
   "execution_count": 5
  },
  {
   "metadata": {},
   "cell_type": "code",
   "source": "",
   "id": "f7a6c5556f83af81",
   "outputs": [],
   "execution_count": null
  }
 ],
 "metadata": {
  "kernelspec": {
   "display_name": "Python 3",
   "language": "python",
   "name": "python3"
  },
  "language_info": {
   "codemirror_mode": {
    "name": "ipython",
    "version": 2
   },
   "file_extension": ".py",
   "mimetype": "text/x-python",
   "name": "python",
   "nbconvert_exporter": "python",
   "pygments_lexer": "ipython2",
   "version": "2.7.6"
  }
 },
 "nbformat": 4,
 "nbformat_minor": 5
}
